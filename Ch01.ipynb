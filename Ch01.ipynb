{
  "nbformat": 4,
  "nbformat_minor": 0,
  "metadata": {
    "colab": {
      "name": "Ch01.ipynb",
      "provenance": [],
      "collapsed_sections": [],
      "authorship_tag": "ABX9TyPWChFdEv/k7knDokFtL/Ey",
      "include_colab_link": true
    },
    "kernelspec": {
      "name": "python3",
      "display_name": "Python 3"
    },
    "language_info": {
      "name": "python"
    }
  },
  "cells": [
    {
      "cell_type": "markdown",
      "metadata": {
        "id": "view-in-github",
        "colab_type": "text"
      },
      "source": [
        "<a href=\"https://colab.research.google.com/github/nayonsoso/hg-mldl/blob/main/Ch01.ipynb\" target=\"_parent\"><img src=\"https://colab.research.google.com/assets/colab-badge.svg\" alt=\"Open In Colab\"/></a>"
      ]
    },
    {
      "cell_type": "markdown",
      "metadata": {
        "id": "YcceWXhmLPM7"
      },
      "source": [
        "#k-최근접 이웃 알고리즘(KNN) 실습\n",
        "k-최근접 이웃(k-Nearest Neighbors, KNN)으로 2개의 종류를 분류하는 머신러닝을 훈련해보자.\n",
        "\n",
        "\n",
        "cf. 2개의 클래스(종류) 중 하나를 고르는 문제를 이진분류라고 함.\n",
        "\n",
        "1. 도미, 빙어의 데이터 불러오기\n",
        "2. 산점도로 분포 확인하기 (matplotlib - scatter 사용)\n",
        "3. 두 데이터 합쳐서 학습 데이터 만들기\n",
        "4. KNeighborsClassifier 모델 만들기\n",
        "5. 새로운 데이터 넣어 확인하기"
      ]
    },
    {
      "cell_type": "markdown",
      "metadata": {
        "id": "PA5nQ2FfL9kU"
      },
      "source": [
        "## 1. 데이터 불러오기"
      ]
    },
    {
      "cell_type": "code",
      "metadata": {
        "id": "_iTi_eTm9W4h"
      },
      "source": [
        "# brema : 도미\n",
        "bream_length = [25.4, 26.3, 26.5, 29.0, 29.0, 29.7, 29.7, 30.0, 30.0, 30.7, 31.0, 31.0, \n",
        "                31.5, 32.0, 32.0, 32.0, 33.0, 33.0, 33.5, 33.5, 34.0, 34.0, 34.5, 35.0, \n",
        "                35.0, 35.0, 35.0, 36.0, 36.0, 37.0, 38.5, 38.5, 39.5, 41.0, 41.0]\n",
        "bream_weight = [242.0, 290.0, 340.0, 363.0, 430.0, 450.0, 500.0, 390.0, 450.0, 500.0, 475.0, 500.0, \n",
        "                500.0, 340.0, 600.0, 600.0, 700.0, 700.0, 610.0, 650.0, 575.0, 685.0, 620.0, 680.0, \n",
        "                700.0, 725.0, 720.0, 714.0, 850.0, 1000.0, 920.0, 955.0, 925.0, 975.0, 950.0]\n",
        "\n",
        "# smelt : 빙어\n",
        "smelt_length = [ 9.8, 10.5, 10.6, 11.0, 11.2, 11.3, 11.8, 11.8, 12.0, 12.2,\n",
        "                12.4, 13.0, 14.3, 15.0]\n",
        "smelt_weight = [ 6.7, 7.5, 7.0, 9.7, 9.8, 8.7, 10.0, 9.9, 9.8, 12.2, 13.4,\n",
        "                12.2, 19.7, 19.9]"
      ],
      "execution_count": null,
      "outputs": []
    },
    {
      "cell_type": "markdown",
      "metadata": {
        "id": "_GjdqXIRNO37"
      },
      "source": [
        "## 2. 산점도 확인하기\n",
        "산점도가 일직선에 가까운 형태로 나타나는 것을 '선형적(linear)이다' 라고 한다."
      ]
    },
    {
      "cell_type": "code",
      "metadata": {
        "id": "r5b6OEFn-QZS"
      },
      "source": [
        "import matplotlib.pyplot as plt # matplotlib의 pylot 함수를 plt로 줄여서 사용\n",
        "plt.scatter(bream_length, bream_weight)\n",
        "plt.scatter(smelt_length, smelt_weight)\n",
        "plt.xlabel('length')\n",
        "plt.ylabel('weight')\n",
        "plt.show()"
      ],
      "execution_count": null,
      "outputs": []
    },
    {
      "cell_type": "markdown",
      "metadata": {
        "id": "s-c8yxWiNxyC"
      },
      "source": [
        "## 3. 학습 데이터 만들기"
      ]
    },
    {
      "cell_type": "code",
      "metadata": {
        "id": "IZyk--Xd_aPr"
      },
      "source": [
        "length = bream_length + smelt_length\n",
        "weight = bream_weight + smelt_weight"
      ],
      "execution_count": null,
      "outputs": []
    },
    {
      "cell_type": "code",
      "metadata": {
        "id": "ym-GbhoB_xVk"
      },
      "source": [
        "# zip() 함수는 나열된 리스트 각각에서 하나씩 원소를 꺼내 반환함\n",
        "fish_data = [[l, w] for l, w in zip(length, weight)]\n",
        "# 각 열은 길이와 무게를 의미함\n",
        "print(fish_data)"
      ],
      "execution_count": null,
      "outputs": []
    },
    {
      "cell_type": "code",
      "metadata": {
        "id": "JiNYzd_P_99s"
      },
      "source": [
        "# 도미 : 1, 빙어 : 0\n",
        "fish_target = [1] * 35 + [0] * 14\n",
        "print(fish_target)"
      ],
      "execution_count": null,
      "outputs": []
    },
    {
      "cell_type": "markdown",
      "metadata": {
        "id": "x3o7xl-BOHIA"
      },
      "source": [
        "## 4. 최근접 이웃 모델 만들기"
      ]
    },
    {
      "cell_type": "code",
      "metadata": {
        "id": "4qJbvzboAjfu"
      },
      "source": [
        "# k-최근접 이웃 알고리즘을 구현한 라이브러리 임포트\n",
        "from sklearn.neighbors import KNeighborsClassifier\n",
        "# 모델 생성\n",
        "kn = KNeighborsClassifier()\n",
        "# 학습 데이터와 테스트 데이터 전달\n",
        "# tenserflow와 마찬가지로 fit함수 이용\n",
        "kn.fit(fish_data, fish_target)"
      ],
      "execution_count": null,
      "outputs": []
    },
    {
      "cell_type": "code",
      "metadata": {
        "id": "rffM4YyZQANQ"
      },
      "source": [
        "# 데이터, 라벨 확인\n",
        "print(kn._fit_X)\n",
        "print(kn._y)"
      ],
      "execution_count": null,
      "outputs": []
    },
    {
      "cell_type": "markdown",
      "metadata": {
        "id": "ndxG0wFsOmau"
      },
      "source": [
        "## 5. 테스트 하기"
      ]
    },
    {
      "cell_type": "code",
      "metadata": {
        "id": "35O2plc7CZbB"
      },
      "source": [
        "# 정확도 확인\n",
        "kn.score(fish_data, fish_target)\n",
        "# 새로운 값 예측\n",
        "kn.predict([[30, 600]])\n",
        "\n",
        "# 그래프 보기\n",
        "plt.scatter(bream_length, bream_weight)\n",
        "plt.scatter(smelt_length, smelt_weight)\n",
        "plt.scatter(30, 600, marker='^')\n",
        "plt.xlabel('length')\n",
        "plt.ylabel('weight')\n",
        "plt.show()"
      ],
      "execution_count": null,
      "outputs": []
    },
    {
      "cell_type": "markdown",
      "metadata": {
        "id": "WfX7ODd7Osu6"
      },
      "source": [
        "# KNN의 원리\n",
        "어떤 데이터에 대한 답을 구할 때 주위의 **다른 데이터를 보고 다수를 차지하는 것을 정답으로** 사용한다.\n",
        "\n",
        "-> 인접한 k개 데이터의 라벨로 분류\n",
        "\n",
        "n_neighbors 변수로 몇개의 인접 데이터를 참고할지 변경할 수 있다. (디폴트는 5)\n",
        "\n",
        "ex kn49 = KNeighborsClassifier(n_neighbors=49)\n",
        "\n",
        "학습보다는 전체 데이터를 메모리에 저장하는 쪽에 가깝다. 따라서 데이터 수가 많아지면 계산이 오래 걸린다는 단점이 있다."
      ]
    },
    {
      "cell_type": "markdown",
      "metadata": {
        "id": "Y6TsRsmYWbwc"
      },
      "source": [
        "확인 문제"
      ]
    },
    {
      "cell_type": "code",
      "metadata": {
        "id": "BY_VXSVPWGxg"
      },
      "source": [
        "kn = KNeighborsClassifier()\n",
        "kn.fit(fish_data, fish_target)\n",
        "for n in range(5, 50):\n",
        "    # k-최근접 이웃 개수 설정\n",
        "    kn.n_neighbors = n # 이 라인을 완성해 보세요\n",
        "    # 점수 계산\n",
        "    score = kn.score(fish_data ,fish_target) # 이 라인을 완성해 보세요\n",
        "    # 100% 정확도에 미치지 못하는 이웃 개수 출력\n",
        "    if score < 1:\n",
        "        print(n, score)\n",
        "        break"
      ],
      "execution_count": null,
      "outputs": []
    }
  ]
}