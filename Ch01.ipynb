{
  "nbformat": 4,
  "nbformat_minor": 0,
  "metadata": {
    "colab": {
      "name": "Ch01.ipynb",
      "provenance": [],
      "collapsed_sections": [],
      "authorship_tag": "ABX9TyM2Rngl2JW8ESSn9PZNjuyV",
      "include_colab_link": true
    },
    "kernelspec": {
      "name": "python3",
      "display_name": "Python 3"
    },
    "language_info": {
      "name": "python"
    }
  },
  "cells": [
    {
      "cell_type": "markdown",
      "metadata": {
        "id": "view-in-github",
        "colab_type": "text"
      },
      "source": [
        "<a href=\"https://colab.research.google.com/github/nayonsoso/hg-mldl/blob/main/Ch01.ipynb\" target=\"_parent\"><img src=\"https://colab.research.google.com/assets/colab-badge.svg\" alt=\"Open In Colab\"/></a>"
      ]
    },
    {
      "cell_type": "markdown",
      "metadata": {
        "id": "YcceWXhmLPM7"
      },
      "source": [
        "#k-최근접 이웃 알고리즘(KNN) 실습\n",
        "k-최근접 이웃(k-Nearest Neighbors, KNN)으로 2개의 종류를 **분류**하는 머신러닝을 훈련해보자.\n",
        "\n",
        "\n",
        "cf. 2개의 클래스(종류) 중 하나를 고르는 문제를 이진분류라고 함.\n",
        "\n",
        "1. 도미, 빙어의 데이터 불러오기\n",
        "2. 산점도로 분포 확인하기 (matplotlib - scatter 사용)\n",
        "3. 두 데이터 합쳐서 학습 데이터 만들기\n",
        "4. KNeighborsClassifier 모델 만들기\n",
        "5. 새로운 데이터 넣어 확인하기"
      ]
    },
    {
      "cell_type": "markdown",
      "metadata": {
        "id": "PA5nQ2FfL9kU"
      },
      "source": [
        "## 1. 데이터 불러오기"
      ]
    },
    {
      "cell_type": "code",
      "metadata": {
        "id": "_iTi_eTm9W4h"
      },
      "source": [
        "# brema : 도미\n",
        "bream_length = [25.4, 26.3, 26.5, 29.0, 29.0, 29.7, 29.7, 30.0, 30.0, 30.7, 31.0, 31.0, \n",
        "                31.5, 32.0, 32.0, 32.0, 33.0, 33.0, 33.5, 33.5, 34.0, 34.0, 34.5, 35.0, \n",
        "                35.0, 35.0, 35.0, 36.0, 36.0, 37.0, 38.5, 38.5, 39.5, 41.0, 41.0]\n",
        "bream_weight = [242.0, 290.0, 340.0, 363.0, 430.0, 450.0, 500.0, 390.0, 450.0, 500.0, 475.0, 500.0, \n",
        "                500.0, 340.0, 600.0, 600.0, 700.0, 700.0, 610.0, 650.0, 575.0, 685.0, 620.0, 680.0, \n",
        "                700.0, 725.0, 720.0, 714.0, 850.0, 1000.0, 920.0, 955.0, 925.0, 975.0, 950.0]\n",
        "\n",
        "# smelt : 빙어\n",
        "smelt_length = [ 9.8, 10.5, 10.6, 11.0, 11.2, 11.3, 11.8, 11.8, 12.0, 12.2,\n",
        "                12.4, 13.0, 14.3, 15.0]\n",
        "smelt_weight = [ 6.7, 7.5, 7.0, 9.7, 9.8, 8.7, 10.0, 9.9, 9.8, 12.2, 13.4,\n",
        "                12.2, 19.7, 19.9]"
      ],
      "execution_count": null,
      "outputs": []
    },
    {
      "cell_type": "markdown",
      "metadata": {
        "id": "_GjdqXIRNO37"
      },
      "source": [
        "## 2. 산점도 확인하기\n",
        "matplptlib의 scatter 함수를 이용하여 도미의 빙어 데이터를 나타내보았다.\n",
        "\n",
        "아래와 같이 산점도가 일직선에 가까운 형태로 나타나는 것을 '선형적(linear)이다' 라고 한다."
      ]
    },
    {
      "cell_type": "code",
      "metadata": {
        "id": "r5b6OEFn-QZS",
        "colab": {
          "base_uri": "https://localhost:8080/",
          "height": 279
        },
        "outputId": "e876cd67-bcdf-4429-e62a-da0a589bcd3e"
      },
      "source": [
        "import matplotlib.pyplot as plt          # matplotlib의 pylot 함수를 plt로 줄여서 사용\n",
        "plt.scatter(bream_length, bream_weight)  #x 축이 길이, y축이 무게가 되게 설정\n",
        "plt.scatter(smelt_length, smelt_weight)\n",
        "plt.xlabel('length(cm)')\n",
        "plt.ylabel('weight(g)')\n",
        "plt.show()"
      ],
      "execution_count": null,
      "outputs": [
        {
          "output_type": "display_data",
          "data": {
            "image/png": "[encoded data removed]",
            "text/plain": [
              "<Figure size 432x288 with 1 Axes>"
            ]
          },
          "metadata": {
            "needs_background": "light"
          }
        }
      ]
    },
    {
      "cell_type": "markdown",
      "metadata": {
        "id": "s-c8yxWiNxyC"
      },
      "source": [
        "## 3. 학습 데이터 만들기"
      ]
    },
    {
      "cell_type": "markdown",
      "metadata": {
        "id": "J3OaOxBimCBc"
      },
      "source": [
        "train_x 만들기 (책에서는 train_input이라고도 함)\n"
      ]
    },
    {
      "cell_type": "code",
      "metadata": {
        "id": "IZyk--Xd_aPr"
      },
      "source": [
        "# 두 배열을 + 한다는 것은 두 배열을 붙여서 새로운 배열을 만든다는 뜻\n",
        "length = bream_length + smelt_length\n",
        "weight = bream_weight + smelt_weight"
      ],
      "execution_count": null,
      "outputs": []
    },
    {
      "cell_type": "code",
      "metadata": {
        "id": "ym-GbhoB_xVk",
        "colab": {
          "base_uri": "https://localhost:8080/"
        },
        "outputId": "fd71688e-7743-48cc-d28c-9f68d52fb16b"
      },
      "source": [
        "# zip() 함수는 나열된 리스트 각각에서 하나씩 원소를 꺼내 반환함\n",
        "fish_data = [[l, w] for l, w in zip(length, weight)]\n",
        "# 각 열은 길이와 무게를 의미함\n",
        "print(fish_data)"
      ],
      "execution_count": null,
      "outputs": [
        {
          "output_type": "stream",
          "name": "stdout",
          "text": [
            "[[25.4, 242.0], [26.3, 290.0], [26.5, 340.0], [29.0, 363.0], [29.0, 430.0], [29.7, 450.0], [29.7, 500.0], [30.0, 390.0], [30.0, 450.0], [30.7, 500.0], [31.0, 475.0], [31.0, 500.0], [31.5, 500.0], [32.0, 340.0], [32.0, 600.0], [32.0, 600.0], [33.0, 700.0], [33.0, 700.0], [33.5, 610.0], [33.5, 650.0], [34.0, 575.0], [34.0, 685.0], [34.5, 620.0], [35.0, 680.0], [35.0, 700.0], [35.0, 725.0], [35.0, 720.0], [36.0, 714.0], [36.0, 850.0], [37.0, 1000.0], [38.5, 920.0], [38.5, 955.0], [39.5, 925.0], [41.0, 975.0], [41.0, 950.0], [9.8, 6.7], [10.5, 7.5], [10.6, 7.0], [11.0, 9.7], [11.2, 9.8], [11.3, 8.7], [11.8, 10.0], [11.8, 9.9], [12.0, 9.8], [12.2, 12.2], [12.4, 13.4], [13.0, 12.2], [14.3, 19.7], [15.0, 19.9]]\n"
          ]
        }
      ]
    },
    {
      "cell_type": "markdown",
      "metadata": {
        "id": "5BNlIBBymSHE"
      },
      "source": [
        "train_y 만들기 (책에서는 train_target이라고도 함)"
      ]
    },
    {
      "cell_type": "code",
      "metadata": {
        "id": "JiNYzd_P_99s",
        "colab": {
          "base_uri": "https://localhost:8080/"
        },
        "outputId": "5539f52b-e1b0-439e-8b33-50cdc5dfb146"
      },
      "source": [
        "# 도미 : 1, 빙어 : 0\n",
        "fish_target = [1] * 35 + [0] * 14\n",
        "print(fish_target)"
      ],
      "execution_count": null,
      "outputs": [
        {
          "output_type": "stream",
          "name": "stdout",
          "text": [
            "[1, 1, 1, 1, 1, 1, 1, 1, 1, 1, 1, 1, 1, 1, 1, 1, 1, 1, 1, 1, 1, 1, 1, 1, 1, 1, 1, 1, 1, 1, 1, 1, 1, 1, 1, 0, 0, 0, 0, 0, 0, 0, 0, 0, 0, 0, 0, 0, 0]\n"
          ]
        }
      ]
    },
    {
      "cell_type": "markdown",
      "metadata": {
        "id": "x3o7xl-BOHIA"
      },
      "source": [
        "## 4. 최근접 이웃 모델 만들기"
      ]
    },
    {
      "cell_type": "code",
      "metadata": {
        "id": "4qJbvzboAjfu",
        "colab": {
          "base_uri": "https://localhost:8080/"
        },
        "outputId": "f64787ed-5b77-4d9f-cae2-148bbc9438de"
      },
      "source": [
        "# k-최근접 이웃 알고리즘을 구현한 라이브러리 임포트\n",
        "from sklearn.neighbors import KNeighborsClassifier\n",
        "# 모델 생성\n",
        "kn = KNeighborsClassifier()\n",
        "# 학습 데이터와 테스트 데이터 전달\n",
        "# tenserflow와 마찬가지로 fit함수 이용 ex. model.fit()\n",
        "kn.fit(fish_data, fish_target)"
      ],
      "execution_count": null,
      "outputs": [
        {
          "output_type": "execute_result",
          "data": {
            "text/plain": [
              "KNeighborsClassifier(algorithm='auto', leaf_size=30, metric='minkowski',\n",
              "                     metric_params=None, n_jobs=None, n_neighbors=5, p=2,\n",
              "                     weights='uniform')"
            ]
          },
          "metadata": {},
          "execution_count": 6
        }
      ]
    },
    {
      "cell_type": "code",
      "metadata": {
        "id": "rffM4YyZQANQ",
        "colab": {
          "base_uri": "https://localhost:8080/"
        },
        "outputId": "c938bf0b-6cb6-47ce-bfbd-72537e83b16a"
      },
      "source": [
        "# 데이터, 라벨 확인\n",
        "# _fit_X과 _y는 입력(x), 타겟(y)의 값이 잘 전달되었는지를 확인시켜줌\n",
        "print(kn._fit_X)\n",
        "print(kn._y)"
      ],
      "execution_count": null,
      "outputs": [
        {
          "output_type": "stream",
          "name": "stdout",
          "text": [
            "[[  25.4  242. ]\n",
            " [  26.3  290. ]\n",
            " [  26.5  340. ]\n",
            " [  29.   363. ]\n",
            " [  29.   430. ]\n",
            " [  29.7  450. ]\n",
            " [  29.7  500. ]\n",
            " [  30.   390. ]\n",
            " [  30.   450. ]\n",
            " [  30.7  500. ]\n",
            " [  31.   475. ]\n",
            " [  31.   500. ]\n",
            " [  31.5  500. ]\n",
            " [  32.   340. ]\n",
            " [  32.   600. ]\n",
            " [  32.   600. ]\n",
            " [  33.   700. ]\n",
            " [  33.   700. ]\n",
            " [  33.5  610. ]\n",
            " [  33.5  650. ]\n",
            " [  34.   575. ]\n",
            " [  34.   685. ]\n",
            " [  34.5  620. ]\n",
            " [  35.   680. ]\n",
            " [  35.   700. ]\n",
            " [  35.   725. ]\n",
            " [  35.   720. ]\n",
            " [  36.   714. ]\n",
            " [  36.   850. ]\n",
            " [  37.  1000. ]\n",
            " [  38.5  920. ]\n",
            " [  38.5  955. ]\n",
            " [  39.5  925. ]\n",
            " [  41.   975. ]\n",
            " [  41.   950. ]\n",
            " [   9.8    6.7]\n",
            " [  10.5    7.5]\n",
            " [  10.6    7. ]\n",
            " [  11.     9.7]\n",
            " [  11.2    9.8]\n",
            " [  11.3    8.7]\n",
            " [  11.8   10. ]\n",
            " [  11.8    9.9]\n",
            " [  12.     9.8]\n",
            " [  12.2   12.2]\n",
            " [  12.4   13.4]\n",
            " [  13.    12.2]\n",
            " [  14.3   19.7]\n",
            " [  15.    19.9]]\n",
            "[1 1 1 1 1 1 1 1 1 1 1 1 1 1 1 1 1 1 1 1 1 1 1 1 1 1 1 1 1 1 1 1 1 1 1 0 0\n",
            " 0 0 0 0 0 0 0 0 0 0 0 0]\n"
          ]
        }
      ]
    },
    {
      "cell_type": "markdown",
      "metadata": {
        "id": "ndxG0wFsOmau"
      },
      "source": [
        "## 5. 테스트 하기"
      ]
    },
    {
      "cell_type": "code",
      "metadata": {
        "colab": {
          "base_uri": "https://localhost:8080/"
        },
        "id": "wp3zssmDnW_7",
        "outputId": "a9c900c7-a6d1-4ad4-e18d-06f5e3720199"
      },
      "source": [
        "# 정확도 확인\n",
        "kn.score(fish_data, fish_target)"
      ],
      "execution_count": null,
      "outputs": [
        {
          "output_type": "execute_result",
          "data": {
            "text/plain": [
              "1.0"
            ]
          },
          "metadata": {},
          "execution_count": 8
        }
      ]
    },
    {
      "cell_type": "code",
      "metadata": {
        "colab": {
          "base_uri": "https://localhost:8080/"
        },
        "id": "9v-KUkC-nZTR",
        "outputId": "0da44d99-294d-4f9b-992d-91f2d233fe86"
      },
      "source": [
        "# 새로운 값 예측\n",
        "kn.predict([[30, 600]])"
      ],
      "execution_count": null,
      "outputs": [
        {
          "output_type": "execute_result",
          "data": {
            "text/plain": [
              "array([1])"
            ]
          },
          "metadata": {},
          "execution_count": 9
        }
      ]
    },
    {
      "cell_type": "code",
      "metadata": {
        "id": "35O2plc7CZbB",
        "colab": {
          "base_uri": "https://localhost:8080/",
          "height": 279
        },
        "outputId": "f7b85316-e683-47c6-9376-4c6cc62da791"
      },
      "source": [
        "# 그래프 보기\n",
        "plt.scatter(bream_length, bream_weight)\n",
        "plt.scatter(smelt_length, smelt_weight)\n",
        "plt.scatter(30, 600, marker='^') # 새로운 값을 삼각형으로 표시\n",
        "plt.xlabel('length')\n",
        "plt.ylabel('weight')\n",
        "plt.show()"
      ],
      "execution_count": null,
      "outputs": [
        {
          "output_type": "display_data",
          "data": {
            "image/png": "[encoded data removed]",
            "text/plain": [
              "<Figure size 432x288 with 1 Axes>"
            ]
          },
          "metadata": {
            "needs_background": "light"
          }
        }
      ]
    },
    {
      "cell_type": "markdown",
      "metadata": {
        "id": "WfX7ODd7Osu6"
      },
      "source": [
        "# KNN의 원리\n",
        "어떤 데이터에 대한 답을 구할 때 주위의 **다른 데이터를 보고 다수를 차지하는 것을 정답으로** 사용한다.\n",
        "\n",
        "-> 인접한 k개 데이터의 라벨로 분류\n",
        "\n",
        "n_neighbors 변수로 몇개의 인접 데이터를 참고할지 변경할 수 있다. (디폴트는 5)\n",
        "\n",
        "ex kn49 = KNeighborsClassifier(n_neighbors=49)\n",
        "\n",
        "![image.png](data:image/png;base64,iVBORw0KGgoAAAANSUhEUgAAAd8AAAFxCAYAAAAyFqLGAAAgAElEQVR4AexdB5QUxdpFEQyggAFQEAQkJxUUHyJiFjCACkbEp4A5guE3ASpmUdSDmDPyQNhEzjnK7uwuy+Yc2JxzmPufW7OziQ0zO7F7vjqnt2e6qyvcqp3b9dUX2kCSICAICAKCgCAgCDgVgTZOrU0qEwQEAUFAEBAEBAEI+cokEAQEAUFAEBAEnIyAkK+TAZfqBAFBQBAQBAQBIV+ZA4KAICAICAKCgJMREPJ1MuBSnSAgCAgCgoAgIOQrc0AQEAQEAUFAEHAyAkK+TgZcqhMEBAFBQBAQBIR8ZQ4IAoKAICAICAJORkDI18mAS3WCgCAgCAgCgoCQr8wBQUAQEAQEAUHAyQgI+ToZcKlOEBAEBAFBQBAQ8pU5IAgIAoKAICAIOBkBIV8nAy7VCQKCgCAgCAgCQr4yBwQBQUAQEAQEAScjIOTrZMClOkFAEBAEBAFBQMhX5oAgIAgIAoKAIOBkBIR8nQy4VCcICAKCgCAgCHgk+R48eBDHjh2T0RcEBAFBQBAQBFyCgMeRr9FoxF133YW5c+e6BHCpVBAQBAQBQUAQ8DjyDQsLQ+fOndG/f39kZ2fLDBAEBAFBQBAQBJyOgMeR7+LFi9GmTRt1rFmzxumAS4WCgCAgCAgCgoBHkW9paSmGDx9eQ7633347KIaWJAgIAoKAICAIOBMBjyLftWvXol27djXk26VLFwQGBjoTb6lLEBAEBAFBQBCAx5BvVVUVHnnkkRriNYue33vvPZkGgoAgIAgIAoKAUxHwGPKNjIxEp06dTiJfKl4VFhY6FXSpTBAQBAQBQcCzEfAY8v3oo49OIl6uftu2bYtVq1Z59iyQ3gsCgoAgIAg4FQGPIF+ubEePHt0o+ZKA7733XlRWVjoVeKlMEBAEBAFBwHMR8AjyXb9+Pdq3b98k+Xbs2FE8Xnnu/4D0XBAQBAQBpyPgEeTbmKKVWeHKfJ4/f77TwZcKBQFBQBAQBDwTAd2Tb2xsLM4777wmV71m8h06dChyc3M9cxZIrwUBQUAQEAScioDuyfeDDz5okXhJwKeddhr++ecfp4IvlQkCgoAgIAh4JgK6Jt+8vLxmFa3Mq17zmYpX4vHKM/8RpNeCgCAgCDgTAV2T75YtW3DqqadatPIlAVPxKjQ01Jn4S12CgCAgCAgCHoiArsn3/vvvt5h4zavft956ywOngXRZEBAEBAFBwJkI6JZ86dGqW7duVpMvAy9kZWU5cwykLkFAEBAEnIOAsRAoWgMkjwWi+wAx1UfWn0BFA4XTvIVAVB8gbgZQVeGc9jmslkog4wFTn6NGAAVBDqvJ0oJ1S75ffPGF1cRrXv36+PhYip/kEwQEAUFAGwhUZQJpNwBhbYDQRo7YCUBJSm1fcp4BjrcBIq4Hqsprr2vxU1U4ENettt/Ji13eC12SL0MHXn755a0m3ylTprh8YKQBgoAgIAjYD4EiIP12E/GSfGOuBNLnmY6kq2sJOfZ+oLKaaHOeN5FV5M3aJ9/iH4HwNkDk+UB4eyBqLOBip4a6JF8vL69WEy9Xv6effjqOHj1qv3kvJQkCgoAg4EoEytYBkaeaSDb+aaAip7Y1xlwgfaKJaGPvBkozTfcaJd8iIP8rIG4QEDsQiB0ExF0D5B+rLY+fKsKB9IeAGOYZCMQMAk4sBMoz6ucr2w0kXVMn3xVA9p9AZWn9fJXRQOYcUz6WmTATKA6pn6fJb+VA6lggtD2QsRiI7QqEnQHkWfp8kwXbdEOX5Hvw4EF89913+P7772uOn376CfPmzavnZpJRjhYuXAjeq5t32bJlCAsLswlYeVgQEAQEAbdBIGdW9aq3K1AYfXKzquKBgpWAsc6teuTLPd9yIPtJE0lz9RzZEYg4rbrcLkDOftPDlceAhF6mfBEdqvNVi7mjrwPKy0z5SpYDkW1Nz7MsHlydUiSe/CZgrDLlq4oGEgdWi8DPAiI7mJ4JPxfIO1CnwU18rDwCRLUDInsDpblA6hhTWUmso4lnnHBZl+TbFG4HDhxAhw4dalbFF154IWJiYprKLtcFAUFAENAHAqlXmEgt6jqgrNiyPtUj3yrAmA1kzgbC2wEnvgGqCoHy/UBsl2oy+9RUbsHHJhKNuhEoLwaMFUDpGiDyHCBxBlCcaMqXdqOpTYlvmPIwX94rQPgFQOr7QCXbaQSyHzPli70TqMgHjGVA7mvVdYwFKlroT/4CE1nHP1/dvg9M3yMuA0rrSAAsQ8VuuTyKfHfu3FmPfLt3747jx4/bDUwpSBAQBAQBt0TATL4xtwEVFm521iPfOgpX5eG1Xaw4AiQMNpFvYrWZZsF7JmKM6ArETwMK9wKl/wLFdUXTRpPyF1e5kX2B5FeAEn+g5DBQWk3OrMWYaCL30LZA2pdAaYDpKFkDRHc0iY9zg2vbc9KnIuDEOFP7sjaY7rLNMWcDLDN710lPOOuCkK+Qr7PmmtQjCAgCrkLATL5NrnyNgLGofusaJd9KoGwXkPY0kDoLiGpjWkVSDJ34tun5ynAg4WLTapXkyns84u8Bsr1Mq1nmLFlhEjubNa+ZJ7wjkPwEkB9gKst4FIg6y0TmvE/ta/PB5/g5fXX9dtf9VrETiGoPhPcACkOAqiLAmAWkXFW96p7rMtGzkK+Qb92pKp8FAUFAjwjkPF5Ngk3s+ZZ6A9HdgYxvgPJqe9965FsJGIuB9KlARDsT6YWeBSTfA0SfX01k1eRL/KrigIyngIQra8mX5Bl6BpBZx4d+6TYg9REgtrupDJWHJNwLKIoHEAREnQmEtQXibgJOPFT/SJ4B5FXvNTc2bjlzTPUrTefqfeXIs4HwU0zXafNbWtDYkw6/JuQr5OvwSSYVCAKCgIsRqKft/Ex9beeqNCBlVPVKtTtQkmpqbF3ypWJS+TrTCpSkm/k7UELxcyWQPNpExuaVb0U0UBZR7bSjACjeAxStAGKq7WyTXgGMJUB5GFAWZXLgURllypf3PhBxuokYMzcDSAViOwOhpwIZ1vpfyAISB5jKir4EiB1Q5+gHRPBl4Ewge4tLBkfIV8jXJRNPKhUEBAFnIkA738kmIuLqUtn5vmKy840fWE281DJeBFQrGaMh+ZYtr16dng3k7jE1vvhnILKaLBOrY6JnPWLKF94bKDDv86YBicNM15MXAFXZQNIAE2lHT6pdbZdvB6I7mfJl7zTVkTHFlC/mKqA4oVqBax2Q8SFQng0Ym1BZVi8c7YGwU4GCuPpgGzOBhOoVe+yj9e856ZuQr5Cvk6aaVCMICAIuRYCi4JTrTARs3mete46fApTVsa+t8XB1A1BlBLg6jetiIsaIs4CorkD4GUBUd1OZcfeb9k8rDUBCXxNhhncw5YuqJtSIoUBhtZJr8e9A1Bmm8iK7mPJFVn+PmQaU55ngKj8MxF9kKi+ikylfxKmm73F3AWUN3GKqp4xA5nRTnsjrgIo6/VL3K4CMaaa6wzsDRelOHxohXyFfp086qVAQEARchUABUPg3kDgCoCg2hsflQI7Pyf6b8xYAUZcAcQ/X3is/Wv3sxUD0xUCWD1D0u6mc2BtrHXRURgBZz5vyRPc0nZOeAEpi63e87BCQOqk2H+tLW1xLvObcFaFA+sO1+aJ7ASc+BsqSzDnqn40ZJnG4Ku+r+vfM34qXA7GXANF9gayN5qtOOwv5Cvk6bbJJRYKAIKBnBCivbkIE7PRusx1m+XlLlVuTt6WyLL8v5Cvka/lskZyCgCAgCAgCdkFAyFfI1y4TSQppHoGqqtq38BMnTsDf3x/rN6zHH3/8AUbgio01ieNCQkIwc+ZM3HnnnZg8eTImTpyIl156CWVlJpd8X3/9tbrHPE8//TReeeUV/Pvvv6ryoqIi0ItbREQEUlNTkZOTg+LiYhibUkhpvslyVxAQBByIgJCvkK8Dp5dnFp2dnY1t27Ypf+HvvPOOItO33661gZwwYYJycdqpcyf07t0bw4YNw549Ju3RwMBATJ8+HXfddRemTZumPs+fPx/l5SYPQ99++60i39tuuw033HADrr76avj6+iqgw8PDa2JYt2vXDj179lRlZGaaHOUfPnwY//vf/2AwGJCb25iSimeOl/RaEHAFAkK+Qr6umHe6qDM9PR0kS0bRYoCO4GCTm7sdO3agb9++6hgyZAhuvvlmfPLJJzV9JkkGBQUhMjISSUlJyMjIqCHXmkwtfKisrARDZxYUFNQ8y9Uxy+ZKeO26tVi6dCkYJKSwsFCV9v7776NXr16KlOnXfOTIkVi92uQdiOXFxcWpMluoWm4LAoKAHRAQ8hXytcM00n8RJKeSkpKajr711lsYOnQounTpgjPOOANXXnkl9u3bp+7n5eUpsTJFv+6UKJZmtK5NmzapqF+vvfYatm/frppI0h44cCCuueYazJ49G7/99huioxuJfuNOHZK2CAIaRkDIV8hXw9PXsU3nqnLXrl349NNP1d7rLbfcovZRWevPP/+M9957T4mXuQLmqlPLe6sUQ69YsQLPP/88brrpJrVCpkjbvFd96NAhhIaGOhZwKV0Q8CAEhHyFfD1oujffVRKNeXVLBahRo0ahR48e6NOnDx566CElojUrPjVfkrbvVlZVKgUwroaZuOq/5557cNFFF2H06NH44IMPcOTIkRqstN1bab0g4BoEhHyFfF0z89yo1sTERFCLmEpMH330kWoZV71//vmnWvlyb9XTU3x8PP7++28899xzGDBggArNSRE2E/eUKdKWpB0EKhILEfp5EoIWJSHovUQc/yEDhfkNbXQrkfTTCQS+nYRovwKLrWbdCYWyuAIcfz8JQR8kIbjBEfReEiK98lHZsNtO6oCQr5Cvk6aa+1VDMeqUKVMUkVAR6Y477oDfWj/3a6ibtSg/Px/Hjh2rWflSo5vSAWpl79+/X9PidzeD2v7NKSpHzIfR2HBVELz7+WPNJf5Y09sfXgMN2HBDKELXF9Vxk1GOgDuPYdUF/tj9ajpDKGguFR1Mw7o+/vDqHwCvPtX9ZZ959PGHz5BA7HopGYUuCGwk5Cvkq7l/qNY2mKRBTWSzVnJAQIASJ//111+IiYlpbbEe/9zx48exYMECtSLu1q0bxowZA5o1SXIzBMorEfFmOHwHBcC7fwDWjz+OHXeGqWPjKAO8BwbA+/JgROwwS3rKETj9OLx6G7DvrQxtku/hdGwcYoDvyCBsvjUU2+8Mqzm23XAMfsMM8BoYCMNfJosAZ46YkK+QrzPnm9ProhIUnVp8/vnnSiO5TZs2SoHK6Q3xgAorKiqwfv165RSEJlhMXCFv2bJFVsNuMP7561KwdmgAvAcGYtfTiciIqqhpVfbaE9gyxoDVvfyxbU4ySpVPmKbJN29fFo4vTkHokhM4/nkKotfmn0zOFRVI/j0Vx784gdAlKQj5LA2ZCbV1miuvSC1G9DcpOP7lCRz/MgVh32ahyORTxpyl+lyJEyvSVL0hi1OQsL/W+qBBxpqvRSTfQQHwGh2GpBCTrbz5ZmVqAfbfFASvPgbsfSMNJ7fMnNMxZyFfIV/HzCw3KZXOLjp37qycWTz++OM4ePBgjd2rmzRR181YsmQJOnXqhLFjxypvXllZWbrur9t2rqICoS+EwadfANZfH4mMjJNbmvp7EgIWp6MgrUIFMQIaI99KJH4Vjw0jDFh98VH80+OoImzvoUHY81oqigtMG6gVcfk49OBx+PTzV3lUvov94Tc+FKF+ZtG2Efk70rCdBNjbVBbzrelrwIapUUgNrxV0V6UW4d/HQuHbv7Y87+FBOPRROppTyahLvskRteWx91V5RTh0czDW9DHgyNe5Tt/TFvIV8j35v1DDV6itzNWX2eUiFYV++OEH5UBCw93SbNOpiEVR/4wZM3DOOedg8ODB2Lt3r2b7o9WGGzOKcfAOg9r73P5ymoVEU598uRguj8rB7glBWHNpIP79IgNpu/MQuTAKawf7Y83wEMQcMImsEz+OxOpeAdgxJxGpBwtUvuDnQ+HVOwBbn0hCUbERKC1HwINBWN2HZWUiY38+0jZmYf8klm/A4S+yTe2sqkDkq5Fqb3rbjHgk7c5H2uYM7CVx9jXA/6e86peFk0dHke9gA3wuC8aumdE49GxszbF36nH4DQ/Etv8mIDfb+VpXQr5CvifPWA1eoTkMvTVdf/31OPXUU/HFl19osBf6bjJ9TtM5iXl/nQpvZo1pfffc9b2rSivGgYkm8t37abaFDapPvmrdWGVEaWwhYv/MglkyXJWci+0jDfC69BhCNxSryEZhTx6H16UG7Hg8Hom7eA2oSCpE/MpclBkBuhuvyizCgesM8Bp2DIcXpiIjwiT4zT+Qg6SdRahiDGEAZSHZ2D4mAN7DQpBQZzWcszYFa/v4Y+30OBRWh/5VD9T5o8iXe74jDPDq64/VvWuPNX0C4DsmBMErnb/fyyYK+Qr51pmq2vxIN40Ua55//vlKe5l+khlQQJJ7I0AtaW4JMHCE2abYvVus3dZVpdaS7+5Flor+GyHfaggq00uReagAqX4Z2H/PMawdboC3Il+TyVn6b/Hw629S7PIZGYxtk0Ox7eFYJOwoREle9SqzrAJhL4fCu18AvPoFYO3YEGyfFIo981KQEVSCyupYJNkbTmBD/wD4jgzGlomh2DbJdGy9KQR+VB4bE4H0xPoiZfNI1V357rg/CvtnRdcc++4Lw9phAfAaHgz/73NQ1XgR5qLsfhbyFfK1+6RyRoG0vTUHDEhOTlbRfczuHZ1Rv9RhOwL0DMZAEbQb7t69O+bNmwcGpZBkfwSMOaU4Mi0IXpcGYOujyTWr1ro15W5Og2FxGgrSK2EKwtUI+VZUIHZxAnZMCMI/Fx2F16BAbBgbjLUj6pOvsaQCSd/GY/OEY1g30mAyZ+pHkx8Dtt2fgJwsE7NWnChB6GsR2DD2GPwGmUyA2EavgUE4/G4GqCKVve4ENvQLgO+IIGy45hg2mo9xx7BpAr9HIiWmcXWpenu+dVbNqt8l5Qh59ji8L/WHz4RIZKZUs31dUBz4WchXyNeB08sxRdPlI8XLtMs1R/txTE1SqjMQoEMTaqPTyQlfpCQ5AoEqxL4bBZ9LA+A3+jhi/62v+Uv1YsMDx7D6Yn9suT8eBUpwVJ98SU05a5KxdsBR+I4Owb8LkhCzoQhl6fnYfZlZ7NzA2YoRyN6cjqD3k3D0qUisG0LTHgNCNpvNmUx9NZZWIum3ZOX0Y/+U4/AdEAC/8WFIzwAKtqdi40B/+F4WhpTYSlSVGdVhZIOqjKgqNSoxdmOo1SXfpLCTCTrj9zhlduU9Jhypsc5d+gr5Cvk2Nmfd7hpdP9Js5eGHH1bBDG699VYVhs/se9jtGiwNshoB81YBpRpz5sxRIRnN16wuTB44CYHyY9nYOpb2vAasv+44jv2Zi5ygIuQE5SFgRhj8hlP8G4jDS3OrHW3UJ18Ki+Pfj4FPb39smBgD805p/sYUrKMJE8XOm0uAklIYno3E9slh+PejzBoTJOOJPOwcH4Q1AwwIXluCisgc7J0Whh13RCJ8XS1pF9AkanAAfK8NRUqsEcYT+dh9faCyxw34s3Zztzy5BLmJJxNq3Y6bydd71HGEe+VV95d9LkLmpgzsvi0IvgMD4Ds5BrkZzlW6EvIV8q07V932M3+EGb+WIfpWrlxZ4/DfbRssDWs1AnRXOXfuXLRt2xbXXXcddu/eLXbCrUaz/oPpyxOx8TLTHqvPQAPUMajawUa/AGyZkYD8QjMJ1SdfLjQz/07EWoppLw/G3ucSYHg7DluvDoLviEB4XxqE4DUmSk75JhZevY5izaBg7H8xHob5iTj8eDj8+vnDd3wEUuOrgPJyHJsdglU9jsJ3TCiOvpMIw/wE7JkcAq/e/tg6KwnFypS3CgmfxSizJZ9Rx3DoVeZLxK4bA+E95jiCf81GmVn7q353ochXKVwFwodaz+Y+8zzIoK5RMezQ4iynu5kU8hXybTBd3esrRcw0V6GzDK58ZU/QvcbHka2hq8obb7wRp512mgrmIFIO+6CduyMDR2aFw29IALwHcMVKZafj8P8oHYWlZuJlXeUImBKCf7r5Y8/r1e4ly8sQ8Xo01g31V3a+SllpURqOvRGB1Rf+ix2vpaOCLF1ejrgfk7DjhkCVb3Wvo0qkvW1mHBIP1oqcjWlFOD4/FhsvD8A/PZnnqFrh7nv9BHKSWVB1KilH3HcJ2HJldXkXH8XqwUHY93wCkgyMKGbOWP9M95LruddM710NDypxXRGMI59lorQJ8q5fmn2/CfkK+dp3RtmpNGowP/DAA7ig6wU1cXLtVLQUoyEEGEXq119/VfGFzSEbaVYmyUYEyiuRG1SEbEMRsgOKkBfTYA9YFW9EUXgxso4WIT+hotbnc1UV8kMKkeVfiJxIE2uVp5Yi278Q2cdL69ncliWXICugCNmBRcj2L0Jpo0YIRhRGFJnysT3BJTWi6oa9LIkuVu1lu7NCSlpcrVYVlCOHZbL+hkdAIXIiSmv71bAyB38X8hXydfAUs654OslYunSp0n4dPnw41q5dKyJH6yDUde41a9ao8IZimqTrYfaIzgn5Cvm61UTfsGEDLrzwQmU6JK4I3Wpo3KIx9I41bNgwZdNNz2X0Jy1JENAiAkK+Qr4un7c0F2JMXSaandDzkSRBoCkEuO//6quvomPHjrj77rshL2lNISXX3RkBIV8hX5fOz+SUZCVGvOKKKyQgu0tHQnuVb9y4Ec8884wo4Wlv6KTF4l6yOxiLVJJrENi8ebPybsRA7H5+fhBFGteMgx5qTUlJwddff428vFo7UD30S/qgXwRk5Svk65LZ/ccff6goN9OnT0dSUpJL2uC8SiuBisTmD+c1Rpc1GQwGpaQ3btw4eaHW5Qjrr1NCvkK+LpnVVJxZtmyZ/jWZizYByfcDYW2BiGaOtHlAWbhLxkIvlYaEhIDkS4W9VatW6X9u6WXgPLQfQr5Cvk6b+gx8QDMij9BQrcwEEm8BIs4EQtsA4S0czBPZFUh9EjCKBm9rJyUV9p599ln07t1bFPdaC6I85xQEhHyFfJ0y0VasWKHMQ6ZNm6b/YAgk3vgxlpFuXVIOa2N6JnWOionqlIHRaSWBgYE1L3ke8bKn03HUc7eEfIV8HTq/6SR/wYIFOOWUU/Dyyy/rP85uZQYQP9Z64q1LwlwFp8526Lh4SuEHDhzApEmTlGtST+mz9FMbCAj5Cvk6dKb++eefOPfcc5W42ewe0KEVurLwylQgfpxtxGsmYUXATwBGc+wYV3ZMu3XHxcXh2muvVcpY27Zt025HpOW6Q0DIV8jXoZOaAdMPHz7s0Drco3AjkLUQON7C3q6ZXC05k4CLhTBsHV865aCf8C5duuCvv/4SkzZbAZXn7YKAkK+Qr10mUt1C6Hd33rx5SEtLq3tZ35+5zxt5TsuKVZaQrjkP94ATxuobNyf1jvu+DFM4fvx4ccrhJMylmuYREPIV8m1+hlh5l/aWffv2xVVXXYXUVDP5GoGSQ0DiDUDCNY0f8dcAWR8DFRq1+U2fax9xs5l4a85nAgWrrBwFyd4YAnTiQmccTOLQpTGE5JozERDyFfK1y3zjfu6hQ4fQs2dPTJgwASdOnDCVW7QNSJ4OcBVnyRF9MZC50C5tcmohSbc7hnwpes7+3Kld8YTKPvvsMyWdkRjBnjDa7tlHIV8hX7vMzIyMDLXivf3225Gbm2sqs2grENHBOlIym9ucmAEYG4sxapfm2r+Q5KnW9bNmZdvCHjHJN2eJ/dvr4SX+888/OPvss/Hkk0+CMYMlCQLORkDIV8jXLnOOkYno6J7KLSoVbQYiOplWu5YSTd18JJ2UmdohYCFfu8wjZxbi4+ODs846C7NmzVLRtJxZt9QlCAj5Cvna9F9AN5G0payXinYCEee0nnjNJEwC5goYGvD4JORbbwpo5cv69etVaMKffvpJK02WduoEASFfId9WT2W6i+zUqRNefPHF2jIq04DIDrYTb10Czny3tnx3/STk664j02K76A3LrIjVYmbJIAjYCQEhX2vIt/QYkHw3wB/axo6kqUD+CqCqwE7D477FHD16FF27dsXUqVNr93jZ3Iw37Ee8JGDuAUf3BiqS3RcMtkzI173Hx4LWkYB/++030YS2ACvJYjsCQr6WkG/xXuDE46bINBSFNneQLOKuBPJ+sX103LQERo/p1asXbrrpJuTn59e2sjwSiO5jX/IlARPvrI9q63HHT6Lt7I6jYlWbdu7cifbt2+Odd96x6jnJLAi0BgEh35bIt2i7yXkCCcAsCm3pbNbYzdTnP/GRI0cwY8YMUMO5XspfZV8PT2ac1QvNyHpVud0XsfN1uyFpTYMY5vKMM87AkiWiYd4a/OQZyxEQ8m2OfIt2AJFdWr+SI2FnLrB8NNw8Z4s2kQVejjG3IfnGX+Xe6IiHK/ceHyta9+GHH6oVMP2SSxIEHIWAkG9T5Fu8B4jo3HriNa/adELAtIV8/PHH8dPPzWiFejL5Qnw7O+pHytnlGmHEW2+9hS+//NLZVUt9HoSAkG9j5FsRb5uNqpl4zWcSsIb3gOm9iuEA6ZRgy9YtTf97eDT50mehvaMaPQkYi5rGW+44DIG6EbjqfnZYhVKwxyEg5NsY+Wa8Zl/xqdqzvByoytPkBFu6dCnatGmDP/74o/n2ezr5Eh27xfOd0zzWctcpCFC/gRGRUlNTnVKfVOI5CAj5NiTf8igg6mLbxc3mVa/5TALOX665mbV//36cfvrpWLDAgr1rIV/T+HL/N36M9S9wnCOUkqSSeI2amyt6bHBUVBS6deuG6dOnixtKPQ6wC/sk5NuQfHOWWf+jaSbY5s78YU24zoVD3bqqk5KSQO8/Fvm/dSj5Xtm6DrjqKRJw4i1AxJmWzSeSbmRXIJWiZg149HIVri6od8eOHWrLRUyQXAC+jqsU8m1Ivrk/WfZj2RzRNnaP5MsfY40kxj8tKrJyv7HAGwg9xXKTrOO8uaAAACAASURBVMZwauwasYu/WiPINWgmfVwn3w+EnQZENHOkvQKUhTd4WL66CwLfffed2npZuXKluzRJ2qFxBIR8hXxPmsI0KXr22WeVdrNVyibGYiDhP/YX2XNVyNCEmk2VpjjFjFXc1KHZvnlGw/l/8PHHH4MuVSUJAvZAQMhXyPekeUQXe/T006KC1UlPAij0tS/5kngpMagqbKw2uSYIuASBFm3eXdIqqVRLCAj5CvnWm6/Hjh1TwRJeeOGFetct/kKSTBhvR9F9e6DQz+LqtZwxPT0dfn5+yr/wV199hffeew+//FLrppR772+++SYWLlyIzz//HN9//z3i4uJUl0tLS+v72NYyEG7e9s8++0xcULr5GGmheUK+Qr4187SkpAQ33nQj/vOf/9j2Q87AEok32EbA3OcNPxMo0Ncem8FgwPLly/HGG29gypQpuOyyy7B9+3Y1BvQt3L9/fwwcOBBDhgzB0KFDMXPmzJrxmTNnDoYPH64O3h8wYAC2bTOJ4ykOvfjii2t8bvPladWqVRIkoAY9+334/ffflQXAmjVr7FeolORxCAj5CvnWTHpqNNOlXmhoaM21Vn+oygESbCHgdgB9RWs0lZeXqzB13t7eavVKBTam+++/Hx06dMCVo6/EI488gkWLFiE6OlrdKywsRFhYGKhhnp2djeLi4pPIs7KyUmme5+XlqfL5wsTEVTOVgb744gu1X3/ttdeq8tkOPvPqq68qc5mff/4ZkZGRYF1W7eerWuQPESCeTz75pDJBiomJEVAEgVYhIOR7Evn+YNuKrTFtXV5TpkY3tmqQNPtQVS6QcK0JT7WSbSE4BfNwjzf8dKBgtSa7nZWVpRRzbr31Vpx11llKhM/VK8mO6cSJE0qq4Og9QxKruQ6+VC1evBhsE6NRnXLKKbj66qsV0WsSZDdodE5ODgYNGoTbb78dFPlLEgSsRUDItyH5VmYDMQPsqzRkJt/iXdaOj1PyZ2Zm4o7b73CMJie9euWvBuJGmzAluTZ1RHUDUmcDZWFO6bc9KuEP7969e+Hv76+Ki4+Px4QJE/Dwww+DYknzKtMeddlaBldsiYmJ2Lp1K7hvmZxsipHMveSHHnoIGzZsODlSla2V6vh5ivznzZtnmQ28jnGQrrUOASHfhuRLHHOW2nf1S7JJmgTQFMcNE/cH6cWHIk+Hprw/TD6u6ee64ZH7C1B6zKHV26twklhScpJSeho3bhzOPPNMPP/886p4rji1Js5dv2E9rr/+erWPyX3mF198sUYUbi/MpBxBQBCoj4CQb2PkW5kGxPS3DwErcSs1dtfXR95NvtF7T9u2bdVer5s0ye2bQaWprl27onfv3pg1a5ZSmOL+rJYT96T58sVoPldeeSWo/MXEvWXzvrKW++fItgcHB+Orr78C99clCQKWIiDk2xj5Er3yOCBmkG3iZ0W8Z7itT2fuTw4bNgx33313zf6gpRPHk/JRtLxu3Tr4+Piobufn52PlqpWgiFmPif3j6p6JJk3c26RZU0ZGhh67a3Ofdu3a1Xq7eJtrlwK0ioCQb1PkyxEtj7GRgE8F8le47dwgeTBGr8PFzW6LQPMNo8LS2rVrlUiWUZ24v+dpKTAwELNnz1ai9cGDBysyJjlLqo/AU089hZ49eyqFuvp35Jsg0DgCQr7NkS8xY5SjmEtNImhLNHbNylXh7YH8vxtH3Y2uam1/0lnQUSpw5513KrOgO+4wKaNZFFzCWQ10cj00P3viiSeU/fHRo0edXLv7V0fzMGqS80XFbFbm/q2WFroSASHflsiXo1ORAGR/CURd0rSmrlmDN6ILkPIwUHLYlePabN3cw6MDBolRejJM5lUd9zoZxYYawJJqEeCcIbnwpe3rr7/G+vXuqctQ22LnfaI7VoroaU4mSRBoCQEhX0vI14wiPTdlfdD0kfkBUGoyOTE/4o5nLy8vnHrqqdi9e7c7Ns8lbeK+7qefforx48fLj6cFI8A9YdovUxzPrQuaMHl64kuJvNB6+iywvP9CvtaQr+W4um1OOnugi8IHHnhAlKyqR2n//v245pprlLnVu+++K04TLJy9FMP/888/yh3mRRddhBUrVsicApR2uKx+LZxEHpxNyNeDyJeiQjpX6NKlC0JCQjx42td2nX6Wzz33XEycOBFBQUG1N+STxQjQtSXtnOmv2uxVy+KHdZiRvp+vuOIK5SJUh92TLtkJASFfDyLf3NxcXHLJJepH0k7zR/PFHD58GMuWLasxrdF8h9ygA/T2tXq1Nt2D2gM+Wg/whe7999+3R3FShk4REPL1IPLlPt2BAwc8/o2c7hSpTCWrNMf8qjEcYseOHZVpllmBzTE1uW+p8+fPV45Y9GoL7r7Ia6dlQr4eQr5iUgQUFRXh5ZdfVg4RGOVHyNcxP1TElZq/3N6gn+uw8DDNudy0FRmK4mn3+9xzz9lalDyvUwSEfD2EfKlI9M033+h0GrfcLYZ+Y1SfCy64QMXTbfkJyWErAnTDSQ9qt912m0cGH+ALCHUsJAkCjSEg5OsB5BsREaFC23355ZeNzQGPuEabVBIB93glOQ8Bmt6IIpvz8JaatIOAkK8HkC+j1AwYMEA5ydfO1LRPS83ehgoKClQcXfuUKqW0BgHuBX/88ceteVSzz1AEz+Alsver2SF0WMOFfHVOvlz1UvnFE0XO9OI1adIkcP9NkusR4Bw8/fTT8fr/ve4xLhhzcnIwYsQIvPTSS64fAGmBWyEg5Ktz8v3rr78wduxYj4tIw36fffbZeOaZZ8BVryT3QODPP/9UL4O0C6YCnCck7vsyBGVCQoIndFf6aCECQr46J1+aF/Ht21MSxXx0cnDGGWeAGs1msbOn9F8L/VyzZo16Mfruu++00Fyb28ggHRdeeCE+/PBDm8uSAvSDgJCvjsm3sKhQPzPVwp6kpKQo5/YkXjGvshA0F2Sj4psnuWCkXTlNj7Kzs12AtlTpjggI+eqUfCnSu/766+Ht7e2O885hbSLh0nVmeXm5w+qQgu2HAF+WVq9ZrXsJBU3dKHL3VKcj9psx+ilJyFen5Pv333/jnHPOwb///quf2dpMT+i5y9NeNJqBQzO3qAnMyEiffPKJZtosDRUE7IGAkK8OyZerPjo2YDB4TxC9hoeHK5HeI488Yo//CSnDiQhwj37x4sXK6xidUug58f9y48aNCA4O1nM3pW8WIiDkq0Py5X7aaaedhk2bNlk4DbSbjWZEl112Ga6++mpQsUWSNhGYN28ezjrrLGzbtk2bHbCg1QzBSMsDhvP0hJdiCyDx6CxCvjokX4qcufLV+/4S97XvvfdeXHzxxeCemiTtIsBV4WOPPYbvv/9eu52woOW0dabZUWxsrAW5JYueERDy1SH58ocsLy9Pz/NW9S0jIwPTpk3Dli1bdN9XT+ggzcL0viJMS0tD586dPdLpjSfMYWv6KOSrM/Il8dK211OS3n+sPWUc6/aTouclS5bUvaSrz3PmzMHll18uUbV0NarWd0bIV2fkO3v2bHzxxRfWzwQNPUGRHaM0eZLzEA0Nj81NpZOU9u3bw8fHx+ay3LGAgIAA/Pzzz7o3r3JH7N2pTUK+OiLfxMRE5bqPP156TRRNTp8+HX379hUFK50OMsd41qxZSoNdXDLqdJClWxDy1RH5UlR3ySWXICkpSbdT+5dfftG9VqxuB8+KjmVmZqpIXPfcc48uYwFTJ2Pt2rUoKSmxAhXJqicEhHx1Qr40Y7jhhhuUApKeJmjdvoSFhaFLly54/fXX616WzzpFYMOGDSoqVXJysu56aDAY0KFDB+zdu1d3fZMOWYaAkK9OyJer3ZEjR8LL28uykddgLrrnu+nmm5CZlanB1kuTW4OAXiMf0Qxw9OjReOqpp1oDizyjAwSEfHVCvpyLdFTPFbBeEzWbi4uL9do96VcTCNB5Ct1Q6k2L/5VXXsHw4cM9wiywiaH16MtCvjoiX73OZEaCCQwM1N2Pr17Hy979oqe2M888E7t377Z30S4tb//+/Sr05c6dO13aDqncNQgI+eqAfOPj41XQ+NDQUNfMIgfX+t5776kVgpgWORhoNy2+tLQUN998M6677jpdSXbYr7lz56oXSzeFXprlQASEfHVAvv/73//QqVMnREREOHCquKZomppQyYoELMlzEaC/cvp+Xr58ueeCID3XFQJCvjog3xdeeAFXXXWV7lzzcY+Xfevfvz/oStLuqTILKDsKFG8CijaZzmX/ApWi0GV3rO1Q4H//+19cccUVuorVzH1s2ufr3Q+7HYZfd0UI+WqcfCm6Gjx4MBYtWqS7yclQgVz1Ll261I59qwJK9gIZzwBxlwFRHYDwNkBoG9OZ32NHAhlPASXcY6yyY91SFBEoS6tA6pY8RH6bBsPbifh3XjyC3k1CzM/pyNiXj4q8xjGnFGT9+vW68gxFZbLx48fj119+lcnhYQgI+WqcfI8dO4Z27drp0l6QTujpKtNuq4KKOCDtSSCyHRDWpvYg+ZqPutcjTwPSZgMVEoHGHr+LRbGlCP0sBdsnhcJ3mAG+QwzwHhgA7wEB8Blo+u43IhC77w1XRFyWUWGPat26DEp3rrnmGsyaPcut2ymNsz8CQr4aJ18SE80wPCGKkU3Tv+QgED+0ccI1E2/Ds5mI4wYDJftsqt6THzZWGJG0OhvbJ4bCZ7ABvkMNIMk2egwPhM8QA/yGBWLvg5HI2JNfD7qqqioVdMHb27vedS1/odRqxMgRKCgo0HI3pO1WIiDkq3HytXK8NZN91apV2L59u33aW/ovEHuJiXgbEqwl30nCMT0BErgkqxCoKjci/KtUrBsVpIi3UcJtjIhJwoMM2HRtCJK8s2vq5B7pww8/rKIC6cU1I02O2rRpg5CQkJp+ygf9IyDkq2HyLSwshJ+fH/Tmfo/KVd27d8eHH35o+39gZTqQeEXriddMztwTThgBVJ6wvU2eUkKVEdE/pmPt8ED4DmtipdsY8da5xpXyxrHHkLq1Nj71oUOHlHY/fSPrIaWmpiozKoZSlOQ5CAj5aph8g4KCVBSjPXv26GrGfvvttzj33HPB0IE2p8w3bSdeMwFzBZz5KgCjzc3yhAIy9xdg0zXHmhcz1yHaplbFFEPvujMMRXGlCjbuk95yyy246667dBETl6J0OpLRs3c6T5jv1vZRyFfD5Lty5UpFvtSY1EuiKJFmUzQr4Y+sTak8Goi5wL7kG30uUK4/e2qbcG7k4crCKhyaFQ3vgc3s71pAvGZCpmJWyAfJQJVpTnh5eeGcc84BHcxIEgS0iICQr4bJlzawEyZM0JXpBaO8dOzYEXZxuZe7BAg/pVaT2byCtfWc85kW/9ed2ub0nflYd0VQq8XNZtI1n32GGrD1xuOgxjQTlZO4R8rYv3pINKt78cUXERcXp4fuSB8sQEDIV6Pky1XhsGHDlBMKC8ZZM1m438tVjc0/qsYKIHmq/Va9ZsKm6DnpDsBYrhlMnd7QKsDwZiJ8BgU0rtFsxYrXTL48UwEr9g8HOFtxOkAnV3j8+HHlv3rjxo0n35QrukRAyFej5Eutz9deew10Oi+pEQSqsoG4no4h39gLgUp9kkAjSFp9qTy3EnumhVun3WwBIXsPMiDg1VoxM7coGBkoICDA6ja62wN82ezRo4eya3e3tkl7HIOAkK9Gydc8HYw6Uv45evQofH19bV/1EpzKNCDydPuLnLkCpvONCv0FeDfPKVvPxUll2HxtiN1EzubVLxWv9twfCWOlad+X3t0Yw/qZZ56xtclu8fzkyZOVGZVbNEYa4XAEhHw1Sr6Ma6s3o/zZs2dj1KhR9iPfiDMcQ74R7YR8m/lpyo8uha8FK1kzqVp6pnOOLTeHoqqsVhGP5mh9+/YFze60nubPn48RI0ZovRvSfgsREPLVKPl+/vnnmD59uoXD7P7Z8nLzMHToUPvY9rK7XPlGnekY8o1qL+TbzJQqiC6F38ggu+73kqBJvltvDQUdd5gTox1169ZNF9svVLpas2aNuWty1jkCQr4aJF8qW913/32gmEov6ciRI2jfvj2Cg4Pt0yVjAZBgB+caZkUr85kKV/EjgKpapw/2abB+SilOKcOW6x0jdt43IwrGanMjIlZeXo6BAwdiwYIF+gFQeuIRCAj5apB8KXIePXo03nrrLd1M0rfefkutfO0nSjeagiiQLM3EaY8zyzvxuNMcbRjz81GVcgKFc19HwZxnUPDkcyiY/QwKX3sLVWnpMLqhP+CKgirsezDS/gpXAw0IejvxpDm/b98+UFtY64lKlHScw+hNkvSPgJCvBv9p6VSDtrB//vmnbmYoxW1270+RD8D9WXuQbk0ZpwGF/zgF99I/liN33E3I6jUAmef3ROa5PZB5Xg/T+fyL1fXc629F6fL/OaU91lQS8mGyMg2ydD+3xXx0UTnUgESvWj/P1rRHC3mLioqUz+qFCxdqobnSRhsREPLVIPnS7eJ5550HimolNYMARcP28OtsJl6ueunfuSqnmUptv1W2dTtyxt2ITBJs90uQ1aMfsnpeevLB67zftRdyx9+M8t3uE3kp+0ghNow5ZjeNZ2o675gchtITJ9tX00yHTlm4atR6GjduHB577DGtd0PabwECQr4aJF/aN9K2kW/KekiZmZn28ePcGBiFvkDkGbbb+5J4I04HClY3VovdrpVv24msSwYh6/yeJ5NtYwTMaz0uReZ5PZHdbyjK9+63W1tsKYhKUQGvxNvNvSQDLEQuS2u0Sfx/uPrqqzFrlvZj4jJi06TJk1BRqQ/PXY0OmFxUCAj5apB89TZ3P/3sUwwfPtx2X86NAUNPVxnP2Id80+dQxaexWuxyrXzHLmT1HoSs7n0sJ966hMxV8KVDUb7fPUIf5oeWYNstphi+LYqVmzFNIvEeeCQKZZlNE9KTTz4JrhrLKxw3PnYZ5BYKMZsb5ebmtpBTbmsdASFfDZLvnr17sGnzJl1EdOE/0NSpU3H//fc77n/JWASkPmra+7VWAYv5eZx4CKhyXLDzyohI04qXBFqXUK39XE3AlW7iIzjZLwcbxgS3OrIRXUpuvy0UOYbmpTy//PIL+vfvj/iEWg9YjptQjivZ29sbd9xxh4py5LhapGR3QEDIV4Pke9999+Gmm27SBflyv65nz55YsmSJY/8fSMCZ84DIjpavgkm6kWcBGS8BRsc6cSh64x2lSGUT8VYTdea5F6Ho3Q8ci6cVpSd5ZWPzhBCTAtZwy+L6Mv4viXfnXeHIOtwy9gaDAe3atQMDc0gSBLSAgJCvBsn3tttuc+xK0Ykzl8pjtO/dsGGDc2ot2gwk3whEnmkiYfPKtu45lKR7BpB8PVDk+HZVRkYje/DlyLqwleLmhqvj7pcge+RVqIx1nwg52QcLcODRKPgpUg1QK2HfukRMbeZhJo1mn4EBKiKS/7x4FESUWDQvqP9ARSU9KF1Z1GHJpHkEhHw1Rr5cKXJv6+mnn9b85GMH6M95/PjxzrXTNJYCpfuBrEVAykQgrj8Q2990TrkNyHwfKN0LGC374bd1IEqWfo/Mc7rbJm5uQMCZ53RDya/uZYpWkVuJxNXZODQ7GhuvOYZ1lwep1a13/wD4DjFg/aggbL4uBP4vxyFtWx6qSms9WdmKsVae514vla7ouUuSvhEQ8tUY+ebk5ChnFO+8846uZia9dnliMuYXIP/+R5DVtbddyZfl5c+cDWNxsfvBWgEUhJcgdUsuYv7KQORP6YhbkYn0nXkoii9rdXs5hxhsQcspPT0d559/Pv766y8td0PabgECQr4aI9+8vDy8/PLLWL9+vQXDK1ncHYGq5BRkXdS3aVveBitai/eEe/RDdq+BMGZmujsEdmvfsmXLlBTFbgW6oCCufBmp6ZtvvnFB7VKlMxEQ8tUY+Tpzcjijro8++sijY5jSdWRW74GOId9Lh8GYleWMYXSLOn766Se1atSy/Tvbfu211+Ldd991C0ylEY5DQMhXyNdxs6uFkukU//rrr8d///vfFnLq97aQr/3Gdt26dSogfXR0tP0KdXJJZWVlypJBLzGKnQyfpqoT8tUY+dKBPN+M9aDVSRHblVdeiUWLFmnqn8aejXWs2HmAR4mdDxw4gF69euHgQfdwMtKaecJ96y1btmD/fvfwVNaaPrjimdyQYgS8kYBtE0Ox486wk45tt4di38woZB5xnK2+tf12CPlyP5K2qHScsGLFiibbFBgYiJkzZ6q4tJ999hkY1cORif5fO3TogDZt2qije/fuztWytUPnDh06pIIq/Pvvv3YozbVFpKamYsCAAfjxxx9d2xAX1m4sLkHhsy+b/Di3dn+3kefoF7pw3htAWesVmFwIS6uqDgsLU/ulmzdvbtXz8pD2ECjNrID/6/FYNyoI3gMCVCQtekRr6mCeg3Oikflvy7bjjkbDIeQbFxeHiy++WBEcAwDQAL5hYui46667TuVp27atU+w89UC+dCLAF4iQkJCGkGruO+fJueeei9VrHOsv2d2BKfn2B2R2srOpUafuKPl9ubt33a7to8g2JiZG8z7PExMTERkZaVds9FhYaUYFdt0bgTV9/K0K4OF1aQA2XB2M7MDmvaY5GjOHkC8bvXHjRpx11lmKXCdNmgTGoK2bGIuWK9BTTz3VaYGw9UC+O3bsUE4p7LKvVZUPlBxq/qg7aHb+XFhYiJUrVyI5OdnOJWuruKqMTORcNsYUoaiRVazFGs7mZ7v1Rs5V16IqS7/h97Q1wta1du7cuZg8ebJ1D3lY7rLsCuyaHgHaiLfGb7iyKx8TjKyjrlsBO4x8ORfMBEuS/eSTT2qmB4mZ8Wh5/cYbbzyJmGsy2vmDXsiX2CUlJbUeHTqPyP0eiBsL0JtTXe9ODT8nTwOK6bKvqvX1yZMtIlDy5TfI7HKhXWx9WU7Jd54nyue21fLly+Hv798i3u6cgQ50xowZ485NdGnbStLKseve8FYTr5ms6b50/dXBLhNBO5R8qVBjFi1zfzU4OBj5+flqX4bE261bN+XhyFkjqQfyzc7Oxq5du1rvTKA8EogdUku45li1TZ1JzuGnA8l3AVX2FdNQGsI97IZSEWfNB3eqpyohUbmEzLzgYpsIOPP8nsgZfQ2qTpxwp+45pS3Unh84cCDee+89p9TnqEqeffZZFSLRUeVrvdwjL8dhTV//Vq14zcRrPvsMDsCWG4/DWOF8Jz8OJV8OMuPOkmRJtlOmTFH+V/mZx3fffefUeaAH8rUJsPJwILqP5YEF6hIySTh5KmCsv31gS3uoud25c2dERUXZUoxunq0MDUPOZVe33tvVBb2UuLkyOkY3mFjTkaqqKgwZMgQLFy605jG3y/vCCy8oKwC3a5gbNCgnuEgpV9EPuJlAbT1TOSvmjwyn987h5Mse0VsLlarMpMvz9OnTHa7d3BBNPZBvVlaW8m7FAOJWpbJwIKavScxcl1St+UwCTroTMNpHg5bmUpwLolxSO5KVYeHIvmwMMjt3t9zxRo9+yOzUDTmjx6EySrs2rrUotO6TXsh3wYIFaqHSOhT0+5Sxyqg0m6mxbCvh1n2e5EvzJIqznZmcQr78p6DpkZl8+/bti/h458fd1AP5UuHq7LPPtm7PtzwCiOnfuhVvQ3I2r4Cr8myep9yG4JzgClhSLQIVx0KQP+MxkwJW116NK2L16Ge6TjH1RX2VH+fKcM/WkOXvDGP6at3vOb1ccXtOUn0EjJVGbBof0urY0HUJt+FnakDnhNhPqle/5Y1/cwr5UhHi7rvvriHf3r17u2S1oxfyZQg+y7WdK4C0F2xb8TZGwIV+jc8oK66ayZdbE5JORqB8/0EVdIGay1kXXKwUsjK7XGRSzOpqEjHnz3gcFQclAg7Ro4OKN998E35+ts/Nk0dDrrgaAZLvlpuOO4R8qXyVG6pD8v3yyy+VSZF55cvzHXfcAdrlOTPpgXz37Nmj7HwtXi1WJADhpwANCdSW79SIjrvM5qHjC8SIESN0YbNsMxjNFVBZpbSXixcvQfEXX6P48yUo+fGX5p6QexpGgOZ3v/76q4Z74JimC/laiSvV/hkii4RLt4iLFy+uWQE7O3KHHsiXLvToZINxcC1KJ2baR9zckKzD2gN5f1jUhKYyUSJC7W1HezZrqn65ri8EKHam5rzW5xP1YW655RZ9DY4deiPkawWIjD07YcIERbb0ZESXiPzHMO//0vuVM/2w6oF8w8PDQaclFnu4SproGPLl3m+OhD2z4t9BsjoYgZSUFNx7773Ytm2bg2tyXPEUnd9zzz2YMWOG4yrRaMlCvlYMHFX+zaJmavCZU0REBC688EJ17+abb3aacoEeyNeMocXnpNsdSL5LLW5GYxmpWELnK7RbliQI2IrAsWPHVFQjX19fW4ty2fO0VZ44cSLoaENSfQSEfOvj0eS3ul6saN/b0DSGzvRPO+00RcBvv/12k+XwxokTJ+xiCyrkS4cZdjrUytc28s3Ly1MOV7Sundrs5JWbTkOAkYCozOlMaZq9O8cXUkb6evXVV+1dtObLU+R7o4MUrgbqROEqLS0Nl19+uSJWrnD5Rtow8Q1v6tSpKg/3MDdt2tQwi/pOL1njxo3DU0891eh9ay7qgXyJx8svv2x5IAo3XvlWVFTg1ltvxezZs60ZRskrCDSKgI+Pj5KoMbiCVhOVUH/44Qfs3r1bq11wWLtJvtvvCLO/tvPwQPiNDERehJW+E2zsqd1NjfiDyuDoFDefcsopzYaLo3MFvqkyL+3zGOWmbqJDibvuukvdnzdvXt1brfqsB/KlgtLgIYMtD0bhxuTLQXzwwQeVmK1VAyoPCQJ1EPj5559BPRJxV1oHFJ19TNqQA69+9nWyweAMhncSYHSy+3q7ky81DqnhTOUqxuslGTeXaG7CvBQVcVXHxFUxYwKPGjVK7eEwOhJXe7YmPZAv8bzmmmtA/68WJTcn35deekmZGznb7Mwi7CSTphDIyMhoP8YUCAAAIABJREFUNHypljpBhVSGFORvoKSTEagoqMSuaREqdm9DRxmt+e47zKDcVRbGl55cmYOv2J187dFehpjr168fpk2bprR6Bw8ejOeee87movVAvgSBolquGC1Kibc4TuEq+yuLmtBcpiNHjqiwgvJj0xxKcs9TEIiJjkGfPn1AqwZJjSOQtD5HiZ59h9ru35merY595JqQpm5JvlQ6oN9frqL5o0yRtJBv7UTkSwlDMRKfFlPmQseQb8Q5QNHWFquXDIKAMxDg/8KaNWtc4jnPnv2j+1jGOJdgI82jqgh4WKBN+79e/fxdRrzsnVuSb13YuX8j5FsXESgRPc1zaBPYYqrKBqK62U/LmdrS9HBFcbadEn9oaBMuSRBoLQLUnG/Xrh3+/vvv1hbhFs/99vtvaquNFh6Smkcg0S8HvsNbQcDDA5XYmiteS35Cm29F6+8K+XqCU//sT4DjdjIxIvnSzKjUQg9bLcxNrliGDRuGDz/8sIWcclsQaBoB6o106tRJxYduOpf736E/hJEjR9bov7h/i13bwqR1OVh7WSB8BhpaXgVXk67vEAOCXSRqrouWkK8GyZdief7Y8GxRqioAku+yT3AFEm/Wh4DRfgoh9Hh2++32W0lbhIlk0hUCjA0+YOAAJCYlarpfr7/+uvIAKDoQlg9jaXoFgt5PwqZrQ+DV1x/UXm54cG+X5kRHXohFXngJYIHQ0PIWtC6nkK8GyZca4nzLJwFbnKoKgeQpthEwxc1Ziyyu0tKMXy75UtlnlpY6X+PQ0jZKPvdGgAqItALQul/n1NRUJCQkuDfYbtq6guhSpO3KQ/re/JOOtD35yDpa6FYtF/LVIPnS/pmOSf755x/rJpOxBEiabCJgEqml3q6YV6147U+87MDWrVvVywQ1nyUJAtYiQN0Hrny///57ax+V/IKAyxAQ8tUg+dJV5+jRo/H+++9bP3GMxcCJR4HI82pXwSTXpg6SbswQk6jZ+toseoJ2jXRBShKWJAh4KgKZmZn46eefEB8f76kQeFS/NUG+PXr0wJw5c2weGL3Y+fJNn2HH6J6z1anUAKTNBSK7A9HNHDnfApUZra7GkgfZHxE5W4KU5GkMgfz8fF0oKO3btw9dunQBfVRL0j8Cbk++VDxYtGiRsuGzdTj0Qr7EgXGRZ86caSskgLGs+cP2GqQEQcChCDAC0CMzH7HM9M6hLbGt8BUrVuCcc84BzaYk6R8Btydfew6BnsiX9s+Fhe6lQGDLWNGucfz48QgICLClGHm2CQSqSqqQG1iM6B/SYHgtHntnRCk3fQdmRePYu0lIWJWF4ni+iDVRgJte5hbMgAED8O6777ppCy1vltnMyPInJKeWERDy1eCer5YnXFNtZ8CISy+9FC2Fl2zqebneBAJGIGN3Pg4/HYsNVwUr5wI+gwzwGVx98HP1sfXGEBxblIzCaO1onTP6DyOnUWSr9TR58mQ89NBDWu+GtN9CBIR8NUq+DLDAoASMm6yXRPEhFckkyIJ9RrQ8rxJhn6Uo0vUZFADfYc37wvUdaiLiHZNCkeKbo4lVMO1i6QdeDzoDX3/9Nfz8/Owz+FKK2yMg5KtR8qWS0ogRI/Diiy+6/SSztIF8kTj//PM1HQzd0r46Ol9ZVgX8X4qH31ADGLnFmogv9AC04cpgxP6a4fQwa9bgQu9ofGGbP3++NY9JXkHALRAQ8tUo+XL2vPDCC7j22mtbDNvoFjPNgkZw9cL9u6VLl1qQW7I0hQD3d4PeTlTiZD8GCh9h/UECXj86GMk+2U1V4xbXScB68AZFJSsefKmW5BkICPlqmHzpRL5jx46g0w29JHr30ZMimSvGJXF1NtZdHtSimLklUvYZYsD220JRGFniim40WydJSk/bE1S2YqQyPbxINDtwcrMGASFfDZOvwWBQnqEOHDxQM6B6+cAVjSTrEShJLceuu8KVQlVL5GrJfe+BBgQvTAIqrW+LI5+gdjwVlDZs3ODIapxSNvU36NuctvuSPAcBIV8Nk29BQQHWr1+P1LRUXc3Yn3/+GQsXLrQsXrGuem57ZxL+l9VydBcrxNA+Qw3Ycn0IimLcSwN6+fLlKoRgZFSk7aC5uIT09HT06dMH333/nYtbItU7EwEhXw2TrzMnijPr+vHHH3HmmWdqPjC6MzFjXVVlRhx6MgbegwJatc/b1EqY4driljvWy5k1WDF4wrhx4zBjxgxrHnPbvPRo1aZNGxw7dsxt2ygNsz8CQr4aJ1/ax1L0lpuXa//Z4aISc3JylPnIm2++6aIWaLPa0tRy7JgYateVLwmZdsCBb7pPpB1qxTOq1/bt27U5UA1azVX82LFjdeEis0HX5GszCAj5apx8AwMDcfrpp+vCyUDdeUqXohdddBGSkpLqXpbPzSCQH1GM9VcGo7Uazk2ufAcbsO+RqGZqdu4tasPfddddmg8faEaN+g2MzS16DmZEPOMs5Ktx8qV7PXqG+uCDD3Q1YxnpaMiQIfD29tZVvxzZmZygIrspWtUlYqX1fEeYI5tuVdnUchb/x1ZBJpndEAEhX42TL+cUHQ1cddVVbji9bGtSTEyMLjwX2YaC5U/nhhSb9npbadtbl3DrfqYryl33RljeEAfl5F5vRkaGbla8hIn+5h9//HFQeVKSZyEg5KsD8v3zzz/VHlhUlPuIBu35b6Qne0574tKwrKK4Umy5LsRm+966xMvPJN8jz8Y2rM7p3w8fPoz+/fsjwKCf4BuvvPKKciwjImenTyeXVyjkqwPy5Qpx7ty5iIrWH/lSqYaarRRDS2oegYq8SuyZHmF30bP3AAPCvkhpvnIn3L3nnntw9dVXq/1RJ1Tn8Cpo3zts2DBxj+lwpN2zAiFfHZCve04t+7SKClddu3bFa6+9Zp8C9VyKEQj5MBkMotBw9dra777DA7Hu8kBk7nWtWHTr1q3Km9uWLVt0M4JHjx5VfWJkJkmeh4CQr07Il2IrroD1KKL95ptv0LlzZwQHB3vef6iVPc7+txAbxgTbTfRMM6N9D0eiMt91Hsfy8/MxatQoTJ061Uo03Ds7lSSHDh0KmtZJ8jwEhHx1Qr4Uy1KEtW7dOt3NYmp0jxo9CpMmTdLly4U9B8xYYUTgm4l2ET0zBOHakUFIZnhBFyaa4cx7ZZ7uXr7i4+PB1a8kz0RAyFcn5EuCGj9+PB588EFdzuQdO3fgySef1M1+nyMHia4gd94RZhsBDzcpWgW+kYCqUteteh2Jk5QtCLgSASFfnZAvJ9Fnn32mPEPR6bwkz0YgbUc+No8LaR0Bk3gHBuDAo9EoSS53GZCMXMQth6CgIJe1wVEV+/r6gp66JISgoxB2/3KFfHVEvnFxcejQoQPork6vKSIiAgy8YITEPW1pjNO252HH5DDlHpKKU5YoXfkONcBvWCCOPB2L4oSylqpw6P2VK1eibdu2iqQcWpGTC2fYQO71PvPMM0K+TsbenaoT8tUR+XJizXliDpYtW+ZOc8yubaHHq/bt22P16tV2LVevhRVGlMB/XjzWjQoCwwPSZtd3mKHWBeXwQOULmopV1JLecv1xRH6bhooc18YQ5H4o3Ys+8cQTuhuaXbt24fzzz1cONnTXOemQxQgI+eqMfEtLS3XlAajhTKZWN3+Qe/TogdhY1zt+aNg+d/zOaEcZe/IR9HYidtweho3/OQbfoYGg/e7akYHKMcee+yIQ+U0q8sNLXN4Fenu68847MXDgQDDcnp4SxcwvvvgiRowYYfH/KccvdWce0vbkN3rwXkWR7MtrbZ4I+eqMfDkBScD5Bflam4sWt5c/yMOHD8fEiRPFx6/FqJkylqVXIC+kGOn7C5C2Kx+ZhwtQEFmCygLXrnTrdiMyMlK5S92xY0fdy7r4nJubi+7du+OLL75osT8VBZVI9MnG7vsi4NXPH979Axo9vPr6Y+c94Yj9XybK89xnHFvsoIdnEPLVIfkyHu7Nt9ysa83gffv2KQKWGKj6/AWjba8eE60Sfv/9d6SkNO8xrCStHDunhinFN++BLTtN4bYB822bGIpCF+/V63HcHNEnIV8dki+Dc7dr1w56XDnU/SfIysqq+1U+axwBOon5e8XfHm/LXZpRoVay3gNaJt2GSnTUUt82KRRFSa5VltP4VHRK84V8dUi+1Ka86aabQF+4ek/cA16xYgUMBoPeu6rr/nGle91112H06NEoLCzUZV/NmvqMztRUKkktx44pYWgN8ZqJWBHwraEojC9tqhq57gYICPnqkHw5r/744w906dIFgYGBbjDNHNcEej+aPHmyimlMP9CStIcAAwzMmDFDaQDreb7OmTMHI0eObDJMpknUHK72dc1E2tozyZsi6KJEWQG763+EkK9OyZcao1xJrF+/3l3nnt3aRdeatJu8/vrrkZ2dbbdypSDHI0Bf5K+++irOOOMMXbpGNSNI06lu3boppyHmaw3PMX9lgMpTrSXchs+t6euP8G9TISbxDZF2j+9CvjolX04vaj17SgoNDcXFF1+sVsHupKzDkIizZ88GbTvdIXFObNiwAc8995xq13fffYfk5GSXNY2Si//+97/46aefXNYGZ1S8aNEi9OrVC03pKVSWGrH5+hD4DjHYjXxpz71+TDDKc5sWczuj71JH4wgI+eqYfDnkXFlkZGQ0Pvo6u7pn7x4lvszMzHSbnj366KNo06YN6BzE1YkKTbfddptqD9tkPrgi4zaFs5N579N8dnb9zqqP5kUk3rfffrvJKiOWpcGnFQpWDVe7Db9z/zfkk+Y1q5tslNxwKAJCvjonX65sJkyY4HFhy4qLi12uNUtSYSSmTp06ITw83KH/yC0VTjxoF03CZWg+xsfdu3cvFi9erPZazzrrLHWtpXLsdZ/zcubMmaDpjd4TX4DXrFmD5nyuh355At6XWq/d3JBsG36nbXDQQtGFcMc5JuSrc/KlHezpp5+ubAvdcQI6ok30IvTCCy/gkUcecamtM+O0UsGGDkFcHbPVy8tLEe/NN98MasPXTb/++msNKVN73NHp+++/x2mnnYZ33nnH5S9Iju6rpeWHLnEg+b4r5GvpODgzn5CvzsmXk4nuGEkC3F/zlMR9zQsuuADTpk0DxX6uSMePHwdXlLfccguo0Vs3MVIPTaScpd1Lxw533313o7bfNIE588wzMW7cOIfOEa4AP/30U6VcxUDynpA4D1UgEGPzgUCEfD1hNtTvo5CvB5BvSEgIzjnnHHDF4UmJXrDoyu/GG28EtU2dndatW6dWlPTlWzfxeufOndWKuCn7ZL4oTZkyBVyptnTYqqzE0HannHKKEkc7cv81ICAAXbt2xeeLP68Lh24/016Z/qkfe/yxFqMXCfnqdho02TEhXw8gX47+/Pnzda9R2tgsJ7kNGzYMv/z6S2O3HXrt66+/VuTLFa45/f333yrs41133dXsHiBX64zeZFaKau48d+5cc/FWnSmeJ/ESn3PPPdfhGtnUtKY0wFPS0qVLla29JX0W8vWUWVHbTyFfD/kxcMZeXu20cq9PNO+gyJPJmXbATz31lCJPuvsk/lRuoj3rvHnzWjQDY37GZ6aGcktHU+YrzY0CX8YoFTj11FPRsWNH+Pj4NJe91feioqJw//334/Dhw60uQ4sPMvhH3759le6BJe0X8rUEJX3lEfL1EPLltOW+4549e5xKQO7070Jt0//85z94//33UV5RX+nI3u2k+Pbyyy9Xe6kkzzfeeANnn302Pv/8c0XE9q7PmvK44v2///s/vPLKK8oxCUXgxIUa0PZM27ZtwyWXXIIrrrjCo1a8xHDVqlXo3bu3enGyBNOQz1Lg1dcB2s6XBsDwdqIlTZA8TkZAyNeDyJdv47TpJPl4YqKW7yeffKJWn1OmToEj3VGmpqaiZ8+eGDx4MChiptiYMWrdJZklISRi2iDTFSlXwlQEszXRfOijjz5SwT2mTZ+G9Ax9xeS1BB/u91KRjfhaktJ256vYyn7DAu3mZMNveCB8hxqQvD7HkiZIHicjIOTrQeTLH4L33ntPaQHzh8FT0+bNm9G/f38lFvT393cIDNRiPu+885QiE+18ae7VoUMHHDp0yKL66B6UQQaosNPSwdW0rYkemPiC8OGHH9palHLqMn78eFCjuaFZk82Fa6CA1npYOzArGgwN2NBWt7XffQYbsPv+CHEv6aZzRsjXg8iXc5CKPJf2vxSPPdayBqabzlm7NIur3ieffNJhe5E07eF+Kk28SPAvvfSSIje6UrQk8Qf8oosuUoRN0m7uoL2srYnhJ0m+3J9tTeKLHV1omoknLy+vNcVo/hlqdNPHeGviTGccLjA52hhuh9Xv8ECs6RuAlG2uMbPT/EA6oQNCvh5GvpxTy5cvR9u2bcEfCklQq7MvvvjCrkEoSIgkM2LNRHEuzb0o9qfpV0uJZEbRpSWHWZmsqTIpYl67di2WLVsGisMbS7RHZXsff/zxxm43ey06OlqRNve0Dx482GxePd+kTgUjbHGPuzWKfcZKIyK+S7OdgIcHwqufP44vTgHLlOSeCAj5eiD58ged7u48xedzS/963KN8+OGH1b7ns88+i4SEhJYeafE+vWuRjMxESwLkqpcE9/zzz7f4vD0zkMhnzZql6ua2Q2PpgQceUPd/++23xm43eo1eu7766iu1V0wvXps2barRKm/0AZ1fXLlypdpe2LJli009VQQ80ADf1qyAhweqWMDHP08RcbNNo+D4h4V8PZB8HT+ttFkD7XH79eunFKVscUhCMud+LaMsUcnNnChpoCcproDDwsLMl51y5sqbomu+EPz555+gWJiOPPii8dZbb6m9aa7YrHkho3Y0zZTefPNNl7vPdAqIzVRCTfo+ffool6ZmZbZmsrd4iwTs1T/Aqj1g7vFyxRtC4pXk9ggI+Xow+VJcyCDmNIWRZEKA5EM73I8//lhdaM0PaWxsrFpFkswaPj99+nR1j76nuSJ1ZqIInM40uPomaZKIaXfM76NGjQLDMraUuDdMxxxMlKC4wnNYS210xX3+D1Fkz/8pe6WoX9Kx464wePULAIm1uYN5tk0KRQTj90rSBAJCvh5Mvtz/o9YvRY4NSUITs9eBjTQTI8mGmru026QGsiWJDiUGDRqEBQsWnJSdSkkU0dJlpDWrzJMKauUFroDZLiqCDRgwQEU64iq/7gq9YdGcG+wTlbGowU1lPUnOQaAspwLxq7OwbXKoImKSccODpBuzPAMl6fX9hzunhVJLaxEQ8vVg8uWkMSva/O9//2vtHNL1c3QN+OCDDyqb1TFjxij/2J6kycsXDu6Ht2vXToWmpE1wwyARup4ALXSOc4FuJJt7eWmhCLntoQgI+Xo4+XLeU1zWo0cPREZGeui/Qcvd5n4tV3z02MQoNXpOdGt54MAB1UVqUtMTFhX06JtZUn0E3n33XRWv2ZPt5usjIt8sRUDIV8gXKSkpyvtSUxF2LJ1MnpCPe3pmX8r0h0zxMfdS09LSNNt9itipubx7926lFU23iNdee22rzGU0C0IrGs6oWVSgo5maJEHAWgSEfIV8rZ0zkr8aAfrJvueee1R4wAsvulBpujKIgtYSbVJvvfVWpXjF/W16zKIWtHnfW2v9cUZ7+QI2dOjQRmM1O6N+qUP7CAj5CvnWzGKayFCkak+NzZrCdfqBBEUx7Q/f/6BWixTPMlHj+YcffsDevXvdZj+Q+7eUbvz1119KyY5Rl9h+ipMZ6pCuL4uLi3U6UvbtFmMyk3wtCRdo35qlNL0gIOQr5Fszl+ka8Morr1Rv8yRiSdYjYF4tUiTJfXRGDGK8XIqnGfTefJ8k15JnKutrNz1RWVWpNLNpe2p290hf02PHjlUOMWhnPHHiRPz666817WltXZ76HJXOuF0jSRBoLQJCvkK+9ebOkSNHcNZZZ2HhwoX1rssX6xAgyZJg//33X3z55Ze47777aoIWcAU6/b7puOGGG/DEE0+ASjuUOGRmZqpKeJ8rZ5oi0ZaWzjD4Y88y+Zkiz+TkZLXqogcthi9kWr9+PV588UVMnTpVrcrat2+vPFDxHvMzeALztMb1oapA/igpB8dUkiBgKwJCvkK+J80hmk7Q+QLNSiTZDwGziQ5XvAy8QFeWN910kwo7SIccZmf8//zzj1o1c+XM48ILL1R5qdTFMIU8evXqpTxo8XmzAhjD+LEcurZk6EQSbVO+nO3XK88pidKgW265Re2Pm8fSc3ovPbU3AkK+Qr4nzSmupGhWw0g8kpyDAFej5vB79BpFAqYbSIqq6QRj+/btaiXN73/88QdWr16tyJXOL8zPOaelnlvL66+/rryCWRoW0nORkp5bgoCQr5Bvo/OEqzPZ920UGrnogQjwheeUU07RvY23Bw6ty7os5Cvk2+zko89aKuaY9xWbzSw3BQEdIkBtcMbo5X66JEHAXggI+Qr5NjuXNm/erILCL1mypNl8clMQ0DMC3Dun8pskQcBeCAj5Cvk2O5eoYUtFnrZt28LX17fZvHJTENATAtyHp902NcwlCQL2RkDIV8i3xTlFkTNNYhiOzuzzt8WHJIMgoGEEqM08c+ZMXHTRRUhKStJwT6Tp7oqAkK+Qr0Vzs6i4SMX+XblypUX5JZMgoGUE3nzzTZx++unwW+un5W5I290YASFfIV+Lp6coXVkMlWTUKALcZmGgBBLvt99+q9FeSLO1gICQr5Cv1fOUAeYfffRRFQnH6oflAUHAjREg+T799NPi4c2Nx0gvTRPyFfK1ei4fPXoU3bp1w+233y7KKFajJw+4OwIkYEmCgKMREPIV8m3VHGO0HgYNeOCBB8QEo1UIykPuhMDGjRvx4IMP1gSicKe2SVv0iYCQr5Bvq2f2tm3bVDDx+fPnt7oMeVAQcDUCu3fvxnnnnYd7771XRYNydXukfs9AQMhXyNemmc79X4qhJQkCWkRg586dininT58u7lS1OIAabrOQr5CvXaYvw+cxig7D4UkSBLSAAOPx9u3bFyRecaShhRGzsI1GIDuwCDlBjR/ZhiJUlrp+X1/IV8jXwhndfDY6IujatSumTZsmBNw8VHLXTRCgI41NmzchLy/PTVokzbAFAWOlEWl783HwyRh49w+Az0BDo4fXpQHY90gUktZmo6rMdSQs5Cvka8t8r3mWGqIMe3fBBRdg4sSJNYHhazLIB0HATRDw8vLCrl273KQ10gx7IFCeX4n9j0XDb3ggvAcEwG9EYLOH98AA+A41YNc94ShJLbdHE6wuQ8hXyNfqSdPcA/v371fB3xkFhr5xJQkC7oTA0qVL0aFDB+Wv3J3aJW1pPQIVhSbi5YqW5NsS8dbcrybqnVPCUZLmfAIW8hXybf2sb+JJg8GAV155BVlZWU3kkMuCgHMRKC8vx4IFC3Daaafh/ffflxCZzoXfYbVVFFZh36NRUMTbwmq3hnQb5ONKecedYSg+4VwCFvIV8nXYPwYLTk5OBslYkiDgSgTee+89teL97rvvXNkMqduOCJTlmFa83N9tilgtvU4C3jk1HMUpziNgIV8hXzv+O5xc1DfffIPzzz8ff/3118k35Yog4CQEGI3Lz0+CJDgJbqdUk+ibgzV9/G0mXjNBs6yI79JgrHJK8yHkK+Tr0JnGAOQvv/wy2rRpg3fffRcU/0kSBJyBwKFDh/DDjz+gqspJv6bO6JTUUYPAtomh8BlisBv5+g4LxIYxwaDyljOSkK+Qr8PnGTWhly1bhk6dOmH27NkQ37kOh9zjK1i1apVynnH33XeL+1MdzoaYvzLgM8h+xGte/foMDMCxT5OdgpiQr5CvUyYaK9m0aRN+/PFHIV+nIe55FeXn5+Odd95Bx44d8cILL4ivZp1OgbClqfDqZ/ter5l0zWfuH/u/keAU1IR8hXydMtEaVrJ161b89ttvDS/Ld0HAJgQoZj7nnHPwww8/2FSOPOzeCIQvS7VJw9lMtg3PJN+At4R87T769ONKGz/uP/Lo3r07jgv52h1nSwr8+uuv1VhQDJ2RkWHJI5JHEGgSAbN7yPT0dAQGBjaZT27oAwEhX42No5Cvew3Y6tWr0bNnTwwdOhQcGz3uBZeVlSlvX/R97U6ppKREtSszM1PTuFPM/NJLL+G+++5DaWmpO0EsbXEgAkK+DgTXEUUL+ToCVdvKjI6Oxi233AJ6xKKvXb2lDz/8UIVddBdTK/oxXrx4Ma6++mq0bdtWHQ899JAm3S0eOXJE9YMSLIqZ9fjyprf/B3v1R8jXXkg6qRwhXycBbWU1XBUyMANTbm4uIiIirCzBfbMz0MQpp5yCffv2ubyRJF763eaWS69evXDFFVcoqQO/d+7cGWvXrnV5Gy1tAMmWe7s333wzQkJCLH1M8ukEASFfjQ2kkK/7D9jff/+toiPRBaB5H8/9W914CykGnTBhAnr06FHzctF4Tudcfe211xTxvvHGG+DeKBOlDd9//z3at2+P4cOHa8Yf98qVK7Fo0SIRNTtn6rhdLaHfnMCavg7Qdr40AEdfi3dKf0XbWRSunDLRLK2E8YA//vhjZaM5duxYTYpDzX09ceKEWmH+5z//cfmLREJCglopjho16iS7VzqhoNifK+CNGzeam+9WZwbpeOutt8RTmluNiusac2J7LvxGBsLXmkAKDXw6N9R0ZlAG38EGxP7tHAVQIV8hX9f9BzVTMzVWJ02apFaNWhUrHjx4UImcKXquux9JJazXX38d1157Lby9vRtFgYQYGhqqRKrsf3NHWlpao2XUvfjHH38ocl2yZEndyzWfIyMjsWfPHlhSVs1DTvhQWVmJNWvWYNCgQTj/gvOxfPlyJ9QqVWgBAQZU8BlsP0cbPkMCsf32UFSVOyfGr5CvkK/b/p9RJLpt2zYlWiR5kYC0JIqmkhVXk5988kkNxmz/zJkz1fWFCxc2KTbl3jf3ivl8S8eLL75YU35TH2bNmoVTTz0Ve/fuVVl27NiBV199FXPnzlWk29Rzrryek/P/7Z1V+f4DAAAQmklEQVQLbFTFGscVBRoMAkIJGlAEoRZM0JACBpBYE6jRYgox3hprFBPEBxEEYwAfMVyNiWLvlSCiEAGJKQ+V24jKpWhIVIJKQd7yflzKywQQRCjgd/MfczalLOxuu7vn7J7fJKf7OHPOzPzONP+dmW++76iVlpY6ozC9bt2WPbYAfnLNlrKPrDppn8u3c5JGv591rra9/0lfGFTEF/HNiP9FTTv26dPHWbcGdWq0Psg33njDCeeSJUvcKa2zDh061K1py/3h5ZJEWlbIJSUlMQ+Nai+XNHp84IEHXIALjW7vv//+CwRdYfZUVlBCQHpW71ozHzVqlJsdqDtzcLm2ci48BM6f+cs2lR+wxYnG8Y0y/SxvWWsm7bVzf6bPDzjii/hmxH+rBESRaSResnLVVO6aNWsCXXfVVaNWTR/Lgltrv507d0675bP29MoqWA5mbrnlFuvWrZu9++67zt3nokWL7L777nP11OhSef1KssZWvYqLi+3gwYN+VYNyM4zA5vIaW9x9bYNHwM6r1cS9aZtu9vAivoiv1xcy5rWystIKCgrskUceuWAtNUgN0MhVQicnIvJpfdttt7lD+5rTnRRZatCgQU5gb7rpJtuyZcsFVdB5Gbfph8KyZcsuOJeODxL8uXPn2h133GFt2rRx0+FBGYWno/2U0XgCm8pr7POu1QmtAVf2WGufdam26gnpcSdZv5WIL+Jbv09kxGd5NvLcUmpU+eqrr9qGDRsCU/ddu3bZDTfc4A45+Zew9e3b12TNHU/y1rsl3LGOWPuiJW5FRUWuDpoKj5Zmz57tzr/55pvRTqf0O3moatu2rWld+tdff01pWdw8Swn8ZbZl6gGrGrLJBVyo7LnWLndomnnpoA227p//s/Nn02NgVZ884ov41u8TGff5559/dtaw8nQkX9Hr16/3PW6wt6dcRlOazu3Ro4cTt1mzZsXFVwZXsQytvPPPPvvsZe8pIdear/LPnz8/al4Ztun8o48+GvV8Mr+UIVVFRYXt27fP3Xbt2rX2448/JrMI7hVSAn8eqrXtsw/b0kEb7b+F0Y+lAzc4oT6xy193pIgv4psV/6YaUc6YMcN5bZLDiHnz5vnarvLycidmMhiSsZDqI3EbMGBAXOuqGq1OmjTJnn/++ZiHZ9B1uQaPGDHClf/RRx9FzaYoU6pfLCGPenGcX9YcqLEpU6ZYfn6+M/7yY4o7zqqSLcMJaLuQRrRRjzRtJYqFEPFFfGP1kYw6rxGjjIg0mlLSGqu8ZqXbgEdTqfKdvGLFClcPTZFr3bdp06Zu32q6oXrbnsrKyqIWre1QEt/3338/6vnGfrlg/gInuFpzlqctTZV7Vs2NvTfXQyATCSC+iG8m9tu46ywhzsnJsby8PBs/frzbKywnF6lMcpChad7c3FzT2q+XFEZRAifjplTXwSvTe1X0oi5dupi2FWkNuW7S9K9zYtGu3UXGWHXzJfJelsuKWuUZmGlaWZ7LPB/eidyLvBDIRgKIL+Kbjf060iaNriQAL7/8sgsioNGoLGtTmTT6lj/nrl27XmBgpb3KngDKa1O6k/YDa0q+Xbt2NmHCBDdNL0G8/fbb3Y+CyZMnN6pKYv3DDz84710a4cpyOZ4p8UYVysUQyFACiC/im6FdN/Fqa/SnbUqeRa2mhGWgJYGQH+Zkperqaidm2ltbP0ngNPotLCxMu7curT1rCl5boFQH79APBYlwbW1t/erG/Kz9154DDK1zy+hNo2hZVcsjWbpH+DErTAYIBIQA4ov4BqQrpr8actpxzz33uHVYCZLcPsoDVGOTghhMmzbNOQWpfy95udK6qozDNDXrR9I2Lf3gUB1lCJboVLBGuHIcoqhC2sLkOTvZtGmTC8yA4PrxVCkz0wggvohvpvXZpNZXoz05ndCIVB6oPIMjz3BLwqI1XNLfBLQfWHGA5S1LVsvamiQhJkEAAokRQHwR38R6TBbn1ojNc6+ovcKdOnVyTjJ69eplzzzzjAvyoGnWbE+aRpZ1+E8//WRvvfWWPffccxG/z//6979MltzaF5xuC/Js5077wkUA8UV8w9XjE2itpohlGKXIPwrqUDy02E6f+Xtj/ocffmjTp093W5pOnTqVwF2Dl1XTyN56r9w6ak+wDMPkIOTGG2+0kSNHRryJBa/21AgCmUkA8UV8M7PnprnW8n+sqWglTUNrfVgBCuQWUdbD9957r2nNU0kenPQ+qP6JtcarHxUa1co/toT2hRdecHVXGxVq8O233zYZjqkNnkGVy8AfCEAgKQQQX8Q3KR0pbDeRIGl/rCymZ86caePGj4vsaVW4QEUv0pqo/DkrLOCcOXMcIl23e/dud8jCWuIm71wNWVfWNZoqVxAHCb5elfT96tWrXeB5+WqWz+TBgwe7MnVeDjdat27ttkIpOpQsnXHv6NDxBwJpI4D4Ir5p62xhKaimpsaNLCVqo0ePduLrBTTQmnLv3r3dNh+NmjV61pS2F2lo1apV9vjjj7vjySeftKeeesrGjBnjDnmGOnT4kMP41VdfWcmwEhsyZIhz2tGzZ0/nOUonJciKENS+fXtnHDWkaIgbqUv0lSTUEn5GtA4HfyDgCwHEF/H1peOFqVCJnLemqlHp9u3b3ZYmed/Sdp9XXnklss9YW50kqHfddZfzAy0L7H79+rlD23p27/lbQCW+pf8otaefftr5gNY0cdXyqghWTS3v37/fTZWfqU2tR69IobyBAATiJoD4Ir5xdxYyQgACEIBAcgggvohvcnoSd4EABCAAgbgJIL6Ib9ydhYwQgAAEIJAcAogv4pucnsRdIAABCEAgbgKIL+Ibd2chIwQgAAEIJIcA4ov4JqcncRcIQAACPhNQwBDtbd+5c6fPNYldPOKL+MbuJeSAAAQgkAEEtHVPoTJzc3PdXvmlS5dGtvkFrfqIL+IbtD5JfSAAAQg0iICiknlxqvXavHlzKygosKlTp9q2bdsadM9UXYT4Ir6p6lvcFwIQgEBaCdQX37pCrChlZWVl9s0335hiWvudEF/E1+8+SPkQgAAEkkLgcuJbV4j79+9vU6ZMsb179yal3IbcJNTie/3110ec4TcEHtdAAAIQgEBwCMyaNeuCaee6ghvtfYcOHVzgkaqqKkt3aNBQi2/Lli1t4sSJzr+u1gQ4YEAfoA/QBzKzD7z33nv20EMPJSS+niA3adLEBSh55513bM+ePWn5NREq8f3222+tWbNmDXo43kPi9Qr4XQED/g/oA9naBxRtTBHFZCl99uzZlAlxqMR35cqVlpeXZx07drScnBxEBBGhD9AH6AP0gah9QKNhhf9UpLFUpFCJr+b0d+zYYRs3bjSFasvWX260i1EJfYA+QB9oeB9o1aqVDR8+3CoqKuzgwYOp0F4Llfh6BBVfdezYsW7/V9++fY0DBvQB+gB9ILP7gAZUN998c6MGVb169bKXXnrJNm/e7MlFyl5DK74nT560o0ePcsCAPkAfoA9kQR84fvy4lZeXJyy+8oY1dOhQW7x4sR05ciRlYlv/xqEU3/oQ+AwBCEAAAplP4IMPPohLfLWeK/ufyZMn2y+//OJLwxFfX7BTKAQgAAEIJJtALCcb2l46bNgwW7hwoe9erhDfZD997gcBCEAAAr4QiCa+V155pfXo0cNee+01W79+vS/1ilYo4huNCt9BAAIQgEDGEZg+fXpk2rlFixb24IMP2oIFC+zEiROBawviG7hHQoUgAAEIQKAhBGbMmGH5+fnOc6G2lJ47d64ht0nLNYhvWjBTCAQgAAEIpJqA9uQeOHAg1cUk5f6Ib1IwchMIQAACEIBA/AQQ3/hZkRMCEIAABCCQFAKIb1IwchMIQAACEIBA/AQQ3/hZkRMCvhCQO9SGpIZe15CyuAYCEEiMAOKbGC9yQyDtBLZu3Wr9+vVzVpzaOnHs2LGoddi5c6cVFhbarbfeasXFxfbbb79FzceXEICA/wQQX/+fATWAQEwCL774YmT/4qRJky7Kr7ijpaWlkTxz5869KA9fQAACwSGA+AbnWVATCFySwO+//+5GtQoT16ZNm4tijMqn7VVXXeXEd+TIkSkNAn7JSnICAhCImwDiGzcqMkLAXwKrV6+29u3bO4FV+DtF5VKqrq626667zn0vN3qHDh3yt6KUDgEIxCSA+MZERAYIBIeA3OddffXVTmjlq/aPP/6woqIi97l169ZWVVUVnMpSEwhA4JIEEN9LouEEBIJHQO7yHn74YSe2HTp0cL5rNRWtY+LEicGrMDWCAASiEkB8o2LhSwgEl8COHTusZ8+eTnA94b377rsvaQUd3JZQMwiElwDiG95nT8szmMAnn3wSEd+cnBxbuXJlBreGqkMgfAQQ3/A9c1qc4QTkPGPMmDER8W3SpImVl5dneKuoPgTCRQDxDdfzprVZQGDhwoWm0a6mnK+99lr32qpVK/vuu++yoHU0AQLhIID4huM508osIbB//37r1q2bE9y8vDxbsWKF82glIR44cKBpPzAJAhAIPgHEN/jPiBpCwBGora2NWDdrqrmystJ9v2jRImvevLkTZHnCIkEAAsEngPgG/xlRQwg4AjNnznQCq1HuqFGjIlTOnz9vI0aMcOdatmxpX3/9deRc3TenTp1ygcYVbFzuKEkQgIB/BBBf/9hTMgTiJrBu3TrLzc11AltQUBDxbuXdoKamJrL9KD8/3/S5bpozZ44NGDAgIt4lJSW2fPnyull4DwEIpJEA4ptG2BQFgYYQkBerwYMHO+Fs0aLFJb1YVVRUWLNmzVy+xx57LDK6nTZtmvuuY8eOduedd1qfPn3cNHXbtm3t+++/b0iVuAYCEGgkAcS3kQC5HAKpJqBtRHIdqYAKr7/++iWL0/Tz6NGjXV75gP7000/t+PHjzh90//79bd++fZFrlyxZ4vKVlZUZcX8jWHgDgbQRQHzThpqCINAwAidOnHBWzHqNJZRyP6l8El2NmDX9rD3Bsoqun+QVSxbSp0+frn+KzxCAQIoJIL4pBsztIRBEAmfOnLHevXvb8OHDTSNmEgQgkF4CiG96eVMaBAJBYN68eXbNNdfYsmXLAlEfKgGBsBFAfMP2xGlv6Alof7AMtyZMmBB6FgCAgF8EEF+/yFMuBHwg8PHHHztDq3HjxrHW6wN/ioSARwDx9UjwCoEsJiAjrLFjx7otRpezmM5iBDQNAoEigPgG6nFQGQgkn8CRI0esqKjIOnXqZF988UXyC+COEIBAwgQQ34SRcQEEMoeAtiY98cQTzrhKTjjkWnLPnj2RQ1uRsHbOnOdJTbOHAOKbPc+SlkDgIgKrVq2ypk2bRtxKyi903aN79+52+PDhi67jCwhAILUEEN/U8uXuEPCVwJdffmlyplFYWBj1UECGY8eO+VpHCodAGAkgvmF86rQZAhCAAAR8JYD4+oqfwiEAAQhAIIwEEN8wPnXaDAEIQAACvhJAfH3FT+EQgAAEIBBGAohvGJ86bYYABCAAAV8JIL6+4qdwCEAAAhAIIwHEN4xPnTZDAAIQgICvBBBfX/FTOAQgAAEIhJEA4hvGp06bIQABCEDAVwKIr6/4KRwCEIAABMJIAPEN41OnzRCAAAQg4CsBxNdX/BQOAQhAAAJhJID4hvGp02YIQAACEPCVAOLrK34KhwAEIACBMBJAfMP41GkzBCAAAQj4SuD/N9e7wt16I74AAAAASUVORK5CYII=)\n",
        "\n",
        "이미지 출처: towardsdatascience\n",
        "\n",
        "학습보다는 전체 데이터를 메모리에 저장하는 쪽에 가깝다. 따라서 데이터 수가 많아지면 계산이 오래 걸린다는 단점이 있다."
      ]
    },
    {
      "cell_type": "markdown",
      "metadata": {
        "id": "Y6TsRsmYWbwc"
      },
      "source": [
        "확인 문제"
      ]
    },
    {
      "cell_type": "code",
      "metadata": {
        "id": "BY_VXSVPWGxg",
        "colab": {
          "base_uri": "https://localhost:8080/"
        },
        "outputId": "17c9c44e-f870-4cb3-e57a-b3661e152fa8"
      },
      "source": [
        "kn = KNeighborsClassifier()\n",
        "kn.fit(fish_data, fish_target)\n",
        "for n in range(5, 50):\n",
        "    # k-최근접 이웃 개수 설정\n",
        "    kn.n_neighbors = n # 이 라인을 완성해 보세요\n",
        "    # 점수 계산\n",
        "    score = kn.score(fish_data ,fish_target) # 이 라인을 완성해 보세요\n",
        "    # 100% 정확도에 미치지 못하는 이웃 개수 출력\n",
        "    if score < 1:\n",
        "        print(n, score)\n",
        "        break"
      ],
      "execution_count": null,
      "outputs": [
        {
          "output_type": "stream",
          "name": "stdout",
          "text": [
            "18 0.9795918367346939\n"
          ]
        }
      ]
    }
  ]
}