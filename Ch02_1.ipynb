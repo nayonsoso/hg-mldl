{
  "nbformat": 4,
  "nbformat_minor": 0,
  "metadata": {
    "colab": {
      "name": "Ch02-1.ipynb",
      "private_outputs": true,
      "provenance": [],
      "collapsed_sections": [],
      "authorship_tag": "ABX9TyMD9b84D2dWYNu6vPC3Wa23",
      "include_colab_link": true
    },
    "kernelspec": {
      "name": "python3",
      "display_name": "Python 3"
    },
    "language_info": {
      "name": "python"
    }
  },
  "cells": [
    {
      "cell_type": "markdown",
      "metadata": {
        "id": "view-in-github",
        "colab_type": "text"
      },
      "source": [
        "<a href=\"https://colab.research.google.com/github/nayonsoso/hg-mldl/blob/main/Ch02_1.ipynb\" target=\"_parent\"><img src=\"https://colab.research.google.com/assets/colab-badge.svg\" alt=\"Open In Colab\"/></a>"
      ]
    },
    {
      "cell_type": "markdown",
      "metadata": {
        "id": "-J2rvadTT7Uu"
      },
      "source": [
        "# 훈련 세트와 테스트 세트 분리하기\n",
        "\n",
        "※ 아래 내용은 모두 데이터와 정답이 연결된 지도학습을 기준으로 하고있음\n",
        "\n",
        "훈련 세트와 테스트 세트가 동일하다면, 모델이 제대로 학습되었는지 평가하기 어렵다.\n",
        "\n",
        "따라서 훈련 세트와 테스트 세트를 분리해줘야 한다.\n",
        "\n",
        "**용어 정리**\n",
        "\n",
        "훈련 세트 : 모델 훈련에 사용되는 데이터 세트\n",
        "\n",
        "테스트 세트 : 테스트에 사용되는 데이터 세트\n",
        "\n",
        "입력 (x) : 데이터\n",
        "\n",
        "타깃 (y,라벨,타깃) : 정답\n",
        "\n",
        "샘플 : 입력 - 타깃이 연결된 하나의 데이터\n"
      ]
    },
    {
      "cell_type": "markdown",
      "metadata": {
        "id": "jYqv3CVzU_Du"
      },
      "source": [
        "## 도미와 빙어 데이터를 합쳐 입력 - 타깃 데이터 만들기"
      ]
    },
    {
      "cell_type": "code",
      "metadata": {
        "id": "0G6BLa8nKaj7"
      },
      "source": [
        "# 도미와 빙어를 합친 데이터\n",
        "fish_length = [25.4, 26.3, 26.5, 29.0, 29.0, 29.7, 29.7, 30.0, 30.0, 30.7,\n",
        "               31.0, 31.0, 31.5, 32.0, 32.0, 32.0, 33.0, 33.0, 33.5, 33.5,\n",
        "               34.0, 34.0, 34.5, 35.0, 35.0, 35.0, 35.0, 36.0, 36.0, 37.0,\n",
        "               38.5, 38.5, 39.5, 41.0, 41.0, 9.8, 10.5, 10.6, 11.0, 11.2,\n",
        "               11.3, 11.8, 11.8, 12.0, 12.2, 12.4, 13.0, 14.3, 15.0]\n",
        "\n",
        "fish_weight = [242.0, 290.0, 340.0, 363.0, 430.0, 450.0, 500.0, 390.0,\n",
        "               450.0, 500.0, 475.0, 500.0, 500.0, 340.0, 600.0, 600.0,\n",
        "               700.0, 700.0, 610.0, 650.0, 575.0, 685.0, 620.0, 680.0,\n",
        "               700.0, 725.0, 720.0, 714.0, 850.0, 1000.0, 920.0, 955.0,\n",
        "               925.0, 975.0, 950.0, 6.7, 7.5, 7.0, 9.7, 9.8, 8.7, 10.0,\n",
        "               9.9, 9.8, 12.2, 13.4, 12.2, 19.7, 19.9]\n",
        "\n",
        "fish_data = [[l, w] for l, w in zip(fish_length, fish_weight)]\n",
        "fish_target = [1]*35 + [0]*14"
      ],
      "execution_count": null,
      "outputs": []
    },
    {
      "cell_type": "markdown",
      "metadata": {
        "id": "wTuxULEGVPJB"
      },
      "source": [
        "## 34개를 훈련세트로, 14개를 테스트세트로 분류"
      ]
    },
    {
      "cell_type": "code",
      "metadata": {
        "id": "hlIO7R6JMMFu"
      },
      "source": [
        "from sklearn.neighbors import KNeighborsClassifier\n",
        "kn = KNeighborsClassifier()\n",
        "\n",
        "# 인덱스 슬라이싱\n",
        "train_input = fish_data[:35]\n",
        "train_target = fish_target[:35]\n",
        "test_input = fish_data[35:]\n",
        "test_target = fish_target[35:] \n",
        "kn = kn.fit(train_input, train_target)\n",
        "kn.score(test_input, test_target)"
      ],
      "execution_count": null,
      "outputs": []
    },
    {
      "cell_type": "markdown",
      "metadata": {
        "id": "e9ET2wifVc7w"
      },
      "source": [
        "### 샘플링 편향의 오류 발생\n",
        "\n",
        "훈련 세트에는 '도미'만 있고 테스트 세트에는 '빙어'만 있음\n",
        "\n",
        "-> 정답률 0 라는 오류 발생\n",
        "\n",
        "이러한 오류 발생을 막기 위해서 데이터를 전처리하는 과정이 필요함\n",
        "\n",
        "-> 배열 연산을 도와주는 numpy 라이브러리 활용"
      ]
    },
    {
      "cell_type": "code",
      "metadata": {
        "id": "4IyOiyeaVyY0"
      },
      "source": [
        "import numpy as np\n",
        "# 파이썬 리스트를 numpy 배열로 바꾸기\n",
        "input_arr = np.array(fish_data) # 길이와 무게\n",
        "target_arr = np.array(fish_target) # 1이면 도미, 0이면 빙어\n",
        "print('인풋 데이터 :',input_arr.shape,', 타겟 데이터', target_arr.shape)"
      ],
      "execution_count": null,
      "outputs": []
    },
    {
      "cell_type": "markdown",
      "metadata": {
        "id": "1hoxhujUHfc3"
      },
      "source": [
        "### numpy를 이용해 데이터 세트 섞기\n",
        "\n",
        "샘플링 편향을 해결하기 위해 numpy를 이용해 행렬을 섞어보자\n",
        "\n",
        "- 랜덤 배열 생성\n",
        "\n",
        "- 배열 인덱싱 (한번에 여러 인덱스를 선택하는 것)"
      ]
    },
    {
      "cell_type": "code",
      "metadata": {
        "id": "9Qw9GtlCIKg7"
      },
      "source": [
        "# 랜덤 배열 생성\n",
        "np.random.seed(42) # 책과 동일한 결과를 위해 설정한 것\n",
        "index = np.arange(49)\n",
        "np.random.shuffle(index)\n",
        "print(index)"
      ],
      "execution_count": null,
      "outputs": []
    },
    {
      "cell_type": "code",
      "metadata": {
        "id": "fml1R3bmI5FQ"
      },
      "source": [
        "# 배열 인덱싱\n",
        "train_input = input_arr[index[:35]]   # train_x\n",
        "train_target = target_arr[index[:35]] # train_y\n",
        "test_input = input_arr[index[35:]]    # test_x\n",
        "test_target = target_arr[index[35:]]  # test_y\n",
        "\n",
        "# 배열 인덱싱 확인\n",
        "import matplotlib.pyplot as plt\n",
        "# x축이 train_x의 0번째 행(=길이), y축이 train_x의 1번째 행(=무게)\n",
        "plt.scatter(train_input[:,0], train_input[:,1])\n",
        "# x축이 test_x의 0번째 행(=길이), y축이 test_x의 1번째 행(=무게)\n",
        "plt.scatter(test_input[:,0], test_input[:,1])\n",
        "plt.xlabel('length')\n",
        "plt.ylabel('weight')\n",
        "plt.show()"
      ],
      "execution_count": null,
      "outputs": []
    },
    {
      "cell_type": "markdown",
      "metadata": {
        "id": "tjtcC35lLHXt"
      },
      "source": [
        "### 모델 훈련, 결과 확인"
      ]
    },
    {
      "cell_type": "code",
      "metadata": {
        "id": "hlAF-O6SLL5W"
      },
      "source": [
        "# 모델 훈련\n",
        "kn = kn.fit(train_input, train_target)\n",
        "# 점수 확인\n",
        "kn.score(test_input, test_target)\n",
        "# 실제 결과 확인\n",
        "# kn.predict(test_input)\n",
        "# test_target"
      ],
      "execution_count": null,
      "outputs": []
    }
  ]
}