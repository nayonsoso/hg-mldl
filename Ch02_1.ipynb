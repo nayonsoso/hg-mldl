{
  "nbformat": 4,
  "nbformat_minor": 0,
  "metadata": {
    "colab": {
      "name": "Ch02-1.ipynb",
      "provenance": [],
      "collapsed_sections": [],
      "authorship_tag": "ABX9TyPTSYP9YfiCV8nYe6HbXC6Y",
      "include_colab_link": true
    },
    "kernelspec": {
      "name": "python3",
      "display_name": "Python 3"
    },
    "language_info": {
      "name": "python"
    }
  },
  "cells": [
    {
      "cell_type": "markdown",
      "metadata": {
        "id": "view-in-github",
        "colab_type": "text"
      },
      "source": [
        "<a href=\"https://colab.research.google.com/github/nayonsoso/hg-mldl/blob/main/Ch02_1.ipynb\" target=\"_parent\"><img src=\"https://colab.research.google.com/assets/colab-badge.svg\" alt=\"Open In Colab\"/></a>"
      ]
    },
    {
      "cell_type": "markdown",
      "metadata": {
        "id": "-J2rvadTT7Uu"
      },
      "source": [
        "# 02-1 훈련 세트와 테스트 세트\n",
        "\n",
        "※ 아래 내용은 모두 데이터와 정답이 연결된 **지도학습**을 기준으로 하고있음\n",
        "\n",
        "훈련 세트와 테스트 세트가 동일하다면, 모델이 제대로 학습되었는지 평가하기 어렵다.\n",
        "\n",
        "따라서 훈련 세트와 테스트 세트를 분리해줘야 한다.\n",
        "\n",
        "**용어 정리**\n",
        "\n",
        "훈련 세트 : 모델 훈련에 사용되는 데이터 세트\n",
        "\n",
        "테스트 세트 : 테스트에 사용되는 데이터 세트\n",
        "\n",
        "입력 (x,input) : 데이터\n",
        "\n",
        "타깃 (y,라벨,target) : 정답\n",
        "\n",
        "샘플 : 입력 - 타깃이 연결된 하나의 데이터\n"
      ]
    },
    {
      "cell_type": "markdown",
      "metadata": {
        "id": "jYqv3CVzU_Du"
      },
      "source": [
        "## 도미와 빙어 데이터를 합쳐 입력 - 타깃 데이터 만들기"
      ]
    },
    {
      "cell_type": "code",
      "metadata": {
        "id": "0G6BLa8nKaj7"
      },
      "source": [
        "# 도미와 빙어를 합친 데이터\n",
        "fish_length = [25.4, 26.3, 26.5, 29.0, 29.0, 29.7, 29.7, 30.0, 30.0, 30.7,\n",
        "               31.0, 31.0, 31.5, 32.0, 32.0, 32.0, 33.0, 33.0, 33.5, 33.5,\n",
        "               34.0, 34.0, 34.5, 35.0, 35.0, 35.0, 35.0, 36.0, 36.0, 37.0,\n",
        "               38.5, 38.5, 39.5, 41.0, 41.0, 9.8, 10.5, 10.6, 11.0, 11.2,\n",
        "               11.3, 11.8, 11.8, 12.0, 12.2, 12.4, 13.0, 14.3, 15.0]\n",
        "\n",
        "fish_weight = [242.0, 290.0, 340.0, 363.0, 430.0, 450.0, 500.0, 390.0,\n",
        "               450.0, 500.0, 475.0, 500.0, 500.0, 340.0, 600.0, 600.0,\n",
        "               700.0, 700.0, 610.0, 650.0, 575.0, 685.0, 620.0, 680.0,\n",
        "               700.0, 725.0, 720.0, 714.0, 850.0, 1000.0, 920.0, 955.0,\n",
        "               925.0, 975.0, 950.0, 6.7, 7.5, 7.0, 9.7, 9.8, 8.7, 10.0,\n",
        "               9.9, 9.8, 12.2, 13.4, 12.2, 19.7, 19.9]\n",
        "\n",
        "fish_data = [[l, w] for l, w in zip(fish_length, fish_weight)]\n",
        "fish_target = [1]*35 + [0]*14"
      ],
      "execution_count": 1,
      "outputs": []
    },
    {
      "cell_type": "markdown",
      "metadata": {
        "id": "wTuxULEGVPJB"
      },
      "source": [
        "## 35개를 훈련세트로, 14개를 테스트세트로 분류"
      ]
    },
    {
      "cell_type": "code",
      "metadata": {
        "id": "hlIO7R6JMMFu",
        "colab": {
          "base_uri": "https://localhost:8080/"
        },
        "outputId": "ba14220e-800d-4b46-a0aa-e3975fc7d131"
      },
      "source": [
        "from sklearn.neighbors import KNeighborsClassifier\n",
        "kn = KNeighborsClassifier()\n",
        "\n",
        "# 인덱스 슬라이싱\n",
        "train_input = fish_data[:35] # 0~34\n",
        "train_target = fish_target[:35]\n",
        "test_input = fish_data[35:] # 35~48\n",
        "test_target = fish_target[35:] \n",
        "kn = kn.fit(train_input, train_target)\n",
        "kn.score(train_input, train_target)"
      ],
      "execution_count": 2,
      "outputs": [
        {
          "output_type": "execute_result",
          "data": {
            "text/plain": [
              "1.0"
            ]
          },
          "metadata": {},
          "execution_count": 2
        }
      ]
    },
    {
      "cell_type": "code",
      "metadata": {
        "colab": {
          "base_uri": "https://localhost:8080/"
        },
        "id": "2HqaK4hks8Xa",
        "outputId": "6ae2a968-fc17-4269-8e27-65f763c02882"
      },
      "source": [
        "kn.score(test_input, test_target)\n",
        "# 훈련세트로 평가했을 때는 1이 나오던 점수가 테스트 세트로 평가하니 0이 나옴"
      ],
      "execution_count": 3,
      "outputs": [
        {
          "output_type": "execute_result",
          "data": {
            "text/plain": [
              "0.0"
            ]
          },
          "metadata": {},
          "execution_count": 3
        }
      ]
    },
    {
      "cell_type": "markdown",
      "metadata": {
        "id": "e9ET2wifVc7w"
      },
      "source": [
        "### 샘플링 편향의 오류 발생\n",
        "\n",
        "훈련 세트에는 '도미'만 있고 테스트 세트에는 '빙어'만 있음\n",
        "\n",
        "-> 정답률 0 라는 오류 발생\n",
        "\n",
        "이러한 오류 발생을 막기 위해서 데이터를 **전처리**하는 과정이 필요함\n",
        "\n",
        "-> 배열 연산을 도와주는 numpy 라이브러리 활용"
      ]
    },
    {
      "cell_type": "code",
      "metadata": {
        "id": "4IyOiyeaVyY0",
        "colab": {
          "base_uri": "https://localhost:8080/"
        },
        "outputId": "9ecb27fa-5906-4f1a-f830-51978f981227"
      },
      "source": [
        "import numpy as np\n",
        "# 파이썬 리스트를 numpy 배열로 바꾸기 - numpy로 배열 계산을 편하게 하기 위함\n",
        "input_arr = np.array(fish_data)    # 길이와 무게\n",
        "target_arr = np.array(fish_target) # 1이면 도미, 0이면 빙어\n",
        "print('인풋 데이터 :',input_arr.shape,', 타겟 데이터', target_arr.shape)"
      ],
      "execution_count": 4,
      "outputs": [
        {
          "output_type": "stream",
          "name": "stdout",
          "text": [
            "인풋 데이터 : (49, 2) , 타겟 데이터 (49,)\n"
          ]
        }
      ]
    },
    {
      "cell_type": "markdown",
      "metadata": {
        "id": "1hoxhujUHfc3"
      },
      "source": [
        "### numpy를 이용해 데이터 세트 섞기\n",
        "\n",
        "샘플링 편향을 해결하기 위해 numpy를 이용해 행렬을 섞어보자\n",
        "\n",
        "- 랜덤 배열 생성\n",
        "\n",
        "- 배열 인덱싱 (한번에 여러 인덱스를 선택하는 것)"
      ]
    },
    {
      "cell_type": "markdown",
      "metadata": {
        "id": "NzNWWXVOuqkX"
      },
      "source": [
        "**랜덤 배열 생성**"
      ]
    },
    {
      "cell_type": "code",
      "metadata": {
        "colab": {
          "base_uri": "https://localhost:8080/"
        },
        "id": "9Qw9GtlCIKg7",
        "outputId": "7a020db2-4c61-4b0f-b2b9-b2d019791dc6"
      },
      "source": [
        "# 랜덤 배열 생성\n",
        "np.random.seed(42) # 책과 동일한 결과를 위해 설정한 것\n",
        "index = np.arange(49) # 0부터 48을 갖는 배열 생성\n",
        "np.random.shuffle(index)\n",
        "print(index)"
      ],
      "execution_count": 5,
      "outputs": [
        {
          "output_type": "stream",
          "name": "stdout",
          "text": [
            "[13 45 47 44 17 27 26 25 31 19 12  4 34  8  3  6 40 41 46 15  9 16 24 33\n",
            " 30  0 43 32  5 29 11 36  1 21  2 37 35 23 39 10 22 18 48 20  7 42 14 28\n",
            " 38]\n"
          ]
        }
      ]
    },
    {
      "cell_type": "markdown",
      "metadata": {
        "id": "9peqlrdqusVD"
      },
      "source": [
        "**배열 인덱싱**\n",
        "\n",
        "배열 인덱싱이란? 위에서 랜덤하게 섞은 인덱스를 이용해 만들어둔 배열을 섞기\n",
        "\n",
        "-> 랜덤하게 섞인 인덱스의 값을 데이터의 인덱스로 활용\n",
        "\n",
        "ex. input_arr[index[:35]] == input_arr[13], input_arr[45], input_arr[47] , ... , input_arr[10], input_arr[20] "
      ]
    },
    {
      "cell_type": "code",
      "metadata": {
        "colab": {
          "base_uri": "https://localhost:8080/",
          "height": 279
        },
        "id": "fml1R3bmI5FQ",
        "outputId": "a3404135-8aa3-4640-db71-a739597072c8"
      },
      "source": [
        "# 배열 인덱싱\n",
        "train_input = input_arr[index[:35]]   # train_x\n",
        "train_target = target_arr[index[:35]] # train_y\n",
        "test_input = input_arr[index[35:]]    # test_x\n",
        "test_target = target_arr[index[35:]]  # test_y\n",
        "\n",
        "# 배열 인덱싱 확인\n",
        "import matplotlib.pyplot as plt\n",
        "# x축이 train_x의 0번째 행(=길이), y축이 train_x의 1번째 행(=무게)\n",
        "plt.scatter(train_input[:,0], train_input[:,1])\n",
        "# x축이 test_x의 0번째 행(=길이), y축이 test_x의 1번째 행(=무게)\n",
        "plt.scatter(test_input[:,0], test_input[:,1])\n",
        "plt.xlabel('length(cm)')\n",
        "plt.ylabel('weight(g)')\n",
        "plt.show()"
      ],
      "execution_count": 6,
      "outputs": [
        {
          "output_type": "display_data",
          "data": {
            "image/png": "[encoded data removed]",
            "text/plain": [
              "<Figure size 432x288 with 1 Axes>"
            ]
          },
          "metadata": {
            "needs_background": "light"
          }
        }
      ]
    },
    {
      "cell_type": "markdown",
      "metadata": {
        "id": "tjtcC35lLHXt"
      },
      "source": [
        "### 모델 훈련, 결과 확인"
      ]
    },
    {
      "cell_type": "code",
      "metadata": {
        "colab": {
          "base_uri": "https://localhost:8080/"
        },
        "id": "hlAF-O6SLL5W",
        "outputId": "dec9fd8f-ce3f-494a-c58b-c246c1d30974"
      },
      "source": [
        "# 모델 훈련\n",
        "kn = kn.fit(train_input, train_target)\n",
        "# 점수 확인\n",
        "kn.score(test_input, test_target)\n",
        "# 실제 결과 확인\n",
        "# kn.predict(test_input)\n",
        "# test_target"
      ],
      "execution_count": 7,
      "outputs": [
        {
          "output_type": "execute_result",
          "data": {
            "text/plain": [
              "1.0"
            ]
          },
          "metadata": {},
          "execution_count": 7
        }
      ]
    }
  ]
}