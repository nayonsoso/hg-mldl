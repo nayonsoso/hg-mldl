{
  "nbformat": 4,
  "nbformat_minor": 0,
  "metadata": {
    "colab": {
      "name": "Ch02-2.ipynb",
      "provenance": [],
      "authorship_tag": "ABX9TyOQk9Mub/V57w2GpZMr2+/m",
      "include_colab_link": true
    },
    "kernelspec": {
      "name": "python3",
      "display_name": "Python 3"
    },
    "language_info": {
      "name": "python"
    }
  },
  "cells": [
    {
      "cell_type": "markdown",
      "metadata": {
        "id": "view-in-github",
        "colab_type": "text"
      },
      "source": [
        "<a href=\"https://colab.research.google.com/github/nayonsoso/hg-mldl/blob/main/Ch02_2.ipynb\" target=\"_parent\"><img src=\"https://colab.research.google.com/assets/colab-badge.svg\" alt=\"Open In Colab\"/></a>"
      ]
    },
    {
      "cell_type": "markdown",
      "metadata": {
        "id": "YMj_FDmXaD-a"
      },
      "source": [
        "# 02-2 데이터 전처리"
      ]
    },
    {
      "cell_type": "markdown",
      "metadata": {
        "id": "LozGmEBDaUHp"
      },
      "source": [
        "## numpy를 이용해 데이터셋 준비\n",
        "\n",
        "배열 연산을 쉽게 해주는 numpy를 이용해 02-1 보다 더 효율적인 방법으로 데이터를 준비해보자.\n",
        "\n",
        "**column_stack**은 전달된 배열을 **열로 연결하여 행렬을 리턴**하는 함수이다.\n",
        "\n",
        "ex. column_stack([1,2,3],[a,b,c]) = [[1,a],[2,b],[3,c]]\n",
        "\n",
        "**concatenate**은 **두 배열을 연결**하는 함수이다.\n",
        "\n",
        "ex. column_stack([1,2,3],[a,b,c]) = [[1,2,3],[a,b,c]]\n",
        "\n",
        "02-1처럼 수동으로 파이썬 리스트를 만들수도 있지만, 본 예제는 데이터 크기가 작아서 실행 속도에 차이가 없으나\n",
        "\n",
        "데이터의 크기가 클 수록 시간이 오래 걸리므로 데이터 처리에 최적화되어있는 numpy를 이용하는 것이 좋다.\n"
      ]
    },
    {
      "cell_type": "code",
      "metadata": {
        "id": "h6CWBjDPM3rG"
      },
      "source": [
        "fish_length = [25.4, 26.3, 26.5, 29.0, 29.0, 29.7, 29.7, 30.0, 30.0, 30.7,\n",
        "               31.0, 31.0, 31.5, 32.0, 32.0, 32.0, 33.0, 33.0, 33.5, 33.5,\n",
        "               34.0, 34.0, 34.5, 35.0, 35.0, 35.0, 35.0, 36.0, 36.0, 37.0,\n",
        "               38.5, 38.5, 39.5, 41.0, 41.0, 9.8, 10.5, 10.6, 11.0, 11.2,\n",
        "               11.3, 11.8, 11.8, 12.0, 12.2, 12.4, 13.0, 14.3, 15.0]\n",
        "fish_weight = [242.0, 290.0, 340.0, 363.0, 430.0, 450.0, 500.0, 390.0,\n",
        "               450.0, 500.0, 475.0, 500.0, 500.0, 340.0, 600.0, 600.0,\n",
        "               700.0, 700.0, 610.0, 650.0, 575.0, 685.0, 620.0, 680.0,\n",
        "               700.0, 725.0, 720.0, 714.0, 850.0, 1000.0, 920.0, 955.0,\n",
        "               925.0, 975.0, 950.0, 6.7, 7.5, 7.0, 9.7, 9.8, 8.7, 10.0,\n",
        "               9.9, 9.8, 12.2, 13.4, 12.2, 19.7, 19.9]\n",
        "\n",
        "import numpy as np\n",
        "# column_stack\n",
        "fish_data = np.column_stack((fish_length, fish_weight))\n",
        "# concatenate\n",
        "fish_target = np.concatenate((np.ones(35), np.zeros(14)))\n",
        "\n",
        "# 02-1 방식\n",
        "# fish_data = [[l, w] for l, w in zip(fish_length, fish_weight)]\n",
        "# fish_target = [1]*35 + [0]*14"
      ],
      "execution_count": null,
      "outputs": []
    },
    {
      "cell_type": "code",
      "metadata": {
        "colab": {
          "base_uri": "https://localhost:8080/"
        },
        "id": "t1DKb6wjbLas",
        "outputId": "d4518da7-f659-4934-8b84-04efa41e81d2"
      },
      "source": [
        "# 데이터 확인\n",
        "print(fish_data[:3], '\\n', fish_target[:3])"
      ],
      "execution_count": null,
      "outputs": [
        {
          "output_type": "stream",
          "name": "stdout",
          "text": [
            "[[ 25.4 242. ]\n",
            " [ 26.3 290. ]\n",
            " [ 26.5 340. ]] \n",
            " [1. 1. 1.]\n"
          ]
        }
      ]
    },
    {
      "cell_type": "markdown",
      "metadata": {
        "id": "i_lVjcvGcc4e"
      },
      "source": [
        "## 사이킷런으로 훈련 세트와 테스트 세트 나누기\n",
        "\n",
        "사이킷런에서 제공하는 **train_test_split** 함수를 이용하면 랜덤하게 섞인 훈련세트와 테스트세트를 구할 수 있다.\n",
        "\n",
        "-> 자동으로 랜덤하게 섞어주므로 2-1에서 사용했던 배열 인덱싱 안해도 됨\n",
        "\n",
        "기본적으로 25%를 테스트 데이터로 떼어낸다. \n",
        "\n",
        "ex. 본 예제에서 데이터셋은 총 49개이므로 36개의 훈련세트와 13개의 테스트세트가 만들어진다.\n",
        "\n",
        "\n",
        "**random_state** 변수는 np.random.seed()와 같은 역할을 한다.\n",
        "\n",
        "**stratify** 변수에 타깃 테이터(fish_target)를 전달하면 타깃데이터와 같은 비율로 데이터를 나눈다.\n",
        "\n",
        "ex. 타깃 데이터에서 1과 0의 비율은 35:14(2.5:1)이므로 훈련 세트와 테스트 세트의 비율도 각각 27:12(2.5:1) 와 9:4(2.5:1)이다."
      ]
    },
    {
      "cell_type": "code",
      "metadata": {
        "colab": {
          "base_uri": "https://localhost:8080/"
        },
        "id": "Kws57HeebfvV",
        "outputId": "8572abf7-c98d-4743-c116-c17099f8bc37"
      },
      "source": [
        "# train_test_split\n",
        "from sklearn.model_selection import train_test_split\n",
        "# 원래 데이터의 비율에 맞게 분류 - stratify 변수 이용\n",
        "train_input, test_input, train_target, test_target = train_test_split(\n",
        " fish_data, fish_target, stratify=fish_target, random_state=42)\n",
        "# 기본적으로 25%를 테스트 세트로 떼어낸다.\n",
        "print(train_input.shape,train_target.shape, test_input.shape, test_target.shape)"
      ],
      "execution_count": null,
      "outputs": [
        {
          "output_type": "stream",
          "name": "stdout",
          "text": [
            "(36, 2) (36,) (13, 2) (13,)\n"
          ]
        }
      ]
    },
    {
      "cell_type": "markdown",
      "metadata": {
        "id": "ewzKpT-JfPeN"
      },
      "source": [
        "## 수상한 도미 한 마리\n",
        "\n",
        "k-최근접 이웃으로 분류했을 때 잘못 분류되는 데이터 발생"
      ]
    },
    {
      "cell_type": "markdown",
      "metadata": {
        "id": "em0TgSN3fzYR"
      },
      "source": [
        "### k-nn 모델 생성, 데이터 예측"
      ]
    },
    {
      "cell_type": "code",
      "metadata": {
        "colab": {
          "base_uri": "https://localhost:8080/"
        },
        "id": "bM8GJpUmQCtE",
        "outputId": "a53de1d6-d3b2-4efd-e183-64cd39274f74"
      },
      "source": [
        "from sklearn.neighbors import KNeighborsClassifier\n",
        "kn = KNeighborsClassifier()          # knn 모델 생성\n",
        "kn.fit(train_input, train_target)    # 모델 훈련\n",
        "kn.score(test_input, test_target)    # 점수"
      ],
      "execution_count": null,
      "outputs": [
        {
          "output_type": "execute_result",
          "data": {
            "text/plain": [
              "1.0"
            ]
          },
          "metadata": {},
          "execution_count": 4
        }
      ]
    },
    {
      "cell_type": "code",
      "metadata": {
        "colab": {
          "base_uri": "https://localhost:8080/"
        },
        "id": "oM_hKQtvQEP4",
        "outputId": "503202cd-26fc-4a43-e695-465249d84f73"
      },
      "source": [
        "# (25, 150)은 도미이지만, 빙어로 예측하는 오류 발생\n",
        "print(kn.predict([[25, 150]]))"
      ],
      "execution_count": null,
      "outputs": [
        {
          "output_type": "stream",
          "name": "stdout",
          "text": [
            "[0.]\n"
          ]
        }
      ]
    },
    {
      "cell_type": "markdown",
      "metadata": {
        "id": "ZM6EbnGmIe2g"
      },
      "source": [
        "모든 테스트 세트는 100%의 확률로 잘 분류하지만, 새로운 데이터 (25,150)은 잘 못 분류하는 오류가 발생한다."
      ]
    },
    {
      "cell_type": "markdown",
      "metadata": {
        "id": "M5nsDo8wgy7M"
      },
      "source": [
        "### 문제가 되는 데이터 확인"
      ]
    },
    {
      "cell_type": "code",
      "metadata": {
        "colab": {
          "base_uri": "https://localhost:8080/",
          "height": 297
        },
        "id": "uCSbVMF-P0ET",
        "outputId": "107b1ae8-7560-4d87-e344-9216998162d8"
      },
      "source": [
        "# matplotlib 으로 산점도 확인\n",
        "import matplotlib.pyplot as plt\n",
        "plt.scatter(train_input[:,0], train_input[:,1])\n",
        "plt.scatter(25, 150, marker='^')\n",
        "\n",
        "# kneighbors - 가장 가까운 5개 데이터까지의 거리, 데이터의 index 반환\n",
        "distances, indexes = kn.kneighbors([[25, 150]])\n",
        "plt.scatter(train_input[indexes,0], train_input[indexes,1], marker='D')\n",
        "plt.xlabel('length')\n",
        "plt.ylabel('weight')\n",
        "plt.show()\n",
        "\n",
        "# indexes로 데이터 실체 확인 - 빙어와 가깝다고 나옴\n",
        "print(train_target[indexes])"
      ],
      "execution_count": null,
      "outputs": [
        {
          "output_type": "display_data",
          "data": {
            "image/png": "[encoded data removed]",
            "text/plain": [
              "<Figure size 432x288 with 1 Axes>"
            ]
          },
          "metadata": {
            "needs_background": "light"
          }
        },
        {
          "output_type": "stream",
          "name": "stdout",
          "text": [
            "[[1. 0. 0. 0. 0.]]\n"
          ]
        }
      ]
    },
    {
      "cell_type": "code",
      "metadata": {
        "colab": {
          "base_uri": "https://localhost:8080/"
        },
        "id": "fJ6QKcujiUbb",
        "outputId": "868a0542-1d99-42af-db01-bc856cfcb9e6"
      },
      "source": [
        "# indexes로 데이터 실체 확인 - 빙어와 가깝다고 나옴\n",
        "print(train_target[indexes])"
      ],
      "execution_count": null,
      "outputs": [
        {
          "output_type": "stream",
          "name": "stdout",
          "text": [
            "[[1. 0. 0. 0. 0.]]\n"
          ]
        }
      ]
    },
    {
      "cell_type": "code",
      "metadata": {
        "colab": {
          "base_uri": "https://localhost:8080/"
        },
        "id": "deL2MxFPiX2M",
        "outputId": "e9d00c38-f03e-4ccd-b406-1de9c5e1af20"
      },
      "source": [
        "# distances로 거리 확인\n",
        "print(distances)"
      ],
      "execution_count": null,
      "outputs": [
        {
          "output_type": "stream",
          "name": "stdout",
          "text": [
            "[[ 92.00086956 130.48375378 130.73859415 138.32150953 138.39320793]]\n"
          ]
        }
      ]
    },
    {
      "cell_type": "markdown",
      "metadata": {
        "id": "3kTWNBwQi1IS"
      },
      "source": [
        "### 원인 파악\n",
        "\n",
        "\n",
        "![image.png](data:image/png;base64,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)\n",
        "\n",
        "두 특성의 값이 놓인 범위(scale)가 다르다.\n",
        "\n",
        "x축(길이)의 범위는 10-40 인 반면 y축(무게)의 범위는 0-1000 이다.\n",
        "\n",
        "-> 거리를 측정하는데에 같은 기준이 적용되지 않는다는 문제 발생. \n",
        "\n",
        "ex. 10cm와 90mm를 비교할 때 기준을 고려하지 않은채 90mm가 더 크다고 하는 것과 같은 격\n",
        "\n",
        "x축 범위를 0-1000으로 맞춘 후 matplotlib으로 확인하면 이를 확실히 알 수 있다."
      ]
    },
    {
      "cell_type": "code",
      "metadata": {
        "colab": {
          "base_uri": "https://localhost:8080/",
          "height": 279
        },
        "id": "ANmAsXqbQkSD",
        "outputId": "68ad0975-281e-49cb-8fe8-b7a507f4ab55"
      },
      "source": [
        "plt.scatter(train_input[:,0], train_input[:,1])\n",
        "plt.scatter(25, 150, marker='^')\n",
        "plt.scatter(train_input[indexes,0], train_input[indexes,1], marker='D')\n",
        "plt.xlim((0, 1000)) # xlim = x축 범위 지정\n",
        "plt.xlabel('length')\n",
        "plt.ylabel('weight')\n",
        "plt.show()\n",
        "# 길이는 거리에 거의 영향을 주지 못하고 무게만 고려대상이 된다."
      ],
      "execution_count": null,
      "outputs": [
        {
          "output_type": "display_data",
          "data": {
            "image/png": "[encoded data removed]",
            "text/plain": [
              "<Figure size 432x288 with 1 Axes>"
            ]
          },
          "metadata": {
            "needs_background": "light"
          }
        }
      ]
    },
    {
      "cell_type": "markdown",
      "metadata": {
        "id": "_nVfSRfSK_YT"
      },
      "source": [
        "x축 범위를 y축과 동일하게 맞췄지만, 이는 단순히 범위 통일에 그칠 뿐이다.\n",
        "\n",
        "실제로 x축의 분포와 y축의 분포는 고려하지 않으므로 '길이' 특성은 knn의 판단 기준인 거리에 영향을 주지 못하게 된다.\n",
        "\n",
        "따라서 우리가 측정하는 scale 말고 분포를 고려하여 데이터를 수정 해야 한다! -> 데이터 전처리 필요"
      ]
    },
    {
      "cell_type": "markdown",
      "metadata": {
        "id": "sJMU99AtTRd1"
      },
      "source": [
        "## 데이터 전처리\n",
        "\n",
        "데이터를 표현하는 기준이 다르면 알고리즘이 제대로 예측할 수 없다. \n",
        "\n",
        "특히 거리를 기반으로 하는 k-nn에서는 특히 그렇다. \n",
        "\n",
        "따라서 특성값을 일정한 기준으로 맞춰주는 작업이 필요하다."
      ]
    },
    {
      "cell_type": "markdown",
      "metadata": {
        "id": "Cd0iwrOuUH_r"
      },
      "source": [
        "### z 점수로 데이터 전처리하기\n",
        "\n",
        "z 점수(표준점수)는 x - mean / sigma 로 구할 수 있으며, 평균이 0, 표준편차가 1인 표준정규분포에서 \n",
        "\n",
        "데이터가 0(평균)으로부터 표준편차의 몇배만큼 떨어져있는지를 나타낸다. \n",
        "\n",
        "cf. 통계학에서의 표준 정규 분포에서 사용되는 Z점수와 동일하다."
      ]
    },
    {
      "cell_type": "code",
      "metadata": {
        "colab": {
          "base_uri": "https://localhost:8080/"
        },
        "id": "JeAF_kuIQ-TE",
        "outputId": "f50be028-0812-40e5-91e5-adabafdafc93"
      },
      "source": [
        "# 열을 기준으로 평균과 표준편차 구하기 : axis=0은 열, axis=1은 행을 기준으로 함.\n",
        "mean = np.mean(train_input, axis=0)\n",
        "std = np.std(train_input, axis=0)\n",
        "print('길이, 무게 평균 :\\t',mean,'\\n길이, 무게 표준편차 :\\t',std)"
      ],
      "execution_count": null,
      "outputs": [
        {
          "output_type": "stream",
          "name": "stdout",
          "text": [
            "길이, 무게 평균 :\t [ 27.29722222 454.09722222] \n",
            "길이, 무게 표준편차 :\t [  9.98244253 323.29893931]\n"
          ]
        }
      ]
    },
    {
      "cell_type": "code",
      "metadata": {
        "colab": {
          "base_uri": "https://localhost:8080/"
        },
        "id": "bJsa0Y93RMXM",
        "outputId": "0c44511a-2d7c-4841-9c4a-2526e59ea2ab"
      },
      "source": [
        "# z 점수로 변환하기\n",
        "train_scaled = (train_input - mean) / std\n",
        "\n",
        "# 변환되었는지 확인\n",
        "mean_ = np.mean(train_scaled, axis=0)\n",
        "std_ = np.std(train_scaled, axis=0)\n",
        "np.set_printoptions(precision=6, suppress=True) # 지수표현 대신 실수 출력\n",
        "print(mean_, std_)"
      ],
      "execution_count": null,
      "outputs": [
        {
          "output_type": "stream",
          "name": "stdout",
          "text": [
            "[ 0. -0.] [1. 1.]\n"
          ]
        }
      ]
    },
    {
      "cell_type": "markdown",
      "metadata": {
        "id": "LlYcZJ0VYQMZ"
      },
      "source": [
        "### 예측 데이터도 z 점수로 변환하기\n",
        "\n",
        "데이터셋 - '훈련세트'의 평균 / '훈련세트'의 표준편차로 z점수를 구했던 이전까지의 전처리와는 달리, \n",
        "\n",
        "예측할 데이터는 평균과 표준편차가 없으므로 **훈련세트의 평균과 표준편차를 이용**해야 한다."
      ]
    },
    {
      "cell_type": "code",
      "metadata": {
        "colab": {
          "base_uri": "https://localhost:8080/",
          "height": 279
        },
        "id": "kaLt49vbROvv",
        "outputId": "8e179d65-ab90-4cfa-ae5b-c003e08d02cb"
      },
      "source": [
        "new = ([25, 150] - mean) / std\n",
        "plt.scatter(train_scaled[:,0], train_scaled[:,1])\n",
        "plt.scatter(new[0], new[1], marker='^')\n",
        "plt.xlabel('length')\n",
        "plt.ylabel('weight')\n",
        "plt.show()\n",
        "# x축과 y축의 범위가 동일해진 모습을 볼 수 있다."
      ],
      "execution_count": null,
      "outputs": [
        {
          "output_type": "display_data",
          "data": {
            "image/png": "[encoded data removed]",
            "text/plain": [
              "<Figure size 432x288 with 1 Axes>"
            ]
          },
          "metadata": {
            "needs_background": "light"
          }
        }
      ]
    },
    {
      "cell_type": "markdown",
      "metadata": {
        "id": "xg3decETXoEU"
      },
      "source": [
        "## 전처리 데이터로 모델 훈련 & 예측하기"
      ]
    },
    {
      "cell_type": "markdown",
      "metadata": {
        "id": "2xlLMnopZeDL"
      },
      "source": [
        "### k-nn 모델 훈련"
      ]
    },
    {
      "cell_type": "code",
      "metadata": {
        "colab": {
          "base_uri": "https://localhost:8080/"
        },
        "id": "wLnbjzovRRG3",
        "outputId": "e2568657-5102-46cd-f1e4-622013e783f7"
      },
      "source": [
        "# 전처리 된 훈련세트 이용해서 모델 훈련\n",
        "kn.fit(train_scaled, train_target)"
      ],
      "execution_count": null,
      "outputs": [
        {
          "output_type": "execute_result",
          "data": {
            "text/plain": [
              "KNeighborsClassifier(algorithm='auto', leaf_size=30, metric='minkowski',\n",
              "                     metric_params=None, n_jobs=None, n_neighbors=5, p=2,\n",
              "                     weights='uniform')"
            ]
          },
          "metadata": {},
          "execution_count": 13
        }
      ]
    },
    {
      "cell_type": "markdown",
      "metadata": {
        "id": "wEe9e8DIZifC"
      },
      "source": [
        "### 테스트 세트도 z 점수로 변환\n",
        "\n",
        "훈련 세트를 z 점수로 전처리했던것과 마찬가지로 테스트 세트도 z 점수로 변환해야 한다.\n",
        "\n",
        "훈련 세트와 테스트 세트를 전처리하는 방식이 동일해야 하기 때문이다.\n"
      ]
    },
    {
      "cell_type": "code",
      "metadata": {
        "colab": {
          "base_uri": "https://localhost:8080/"
        },
        "id": "nbMev-IKZbDU",
        "outputId": "9fb4fd4d-ae74-44c3-d0b2-e9d391ef5b11"
      },
      "source": [
        "test_scaled = (test_input - mean) / std\n",
        "kn.score(test_scaled, test_target)"
      ],
      "execution_count": null,
      "outputs": [
        {
          "output_type": "execute_result",
          "data": {
            "text/plain": [
              "1.0"
            ]
          },
          "metadata": {},
          "execution_count": 14
        }
      ]
    },
    {
      "cell_type": "markdown",
      "metadata": {
        "id": "eyUJNvJXaCWL"
      },
      "source": [
        "### 데이터 예측 & 확인"
      ]
    },
    {
      "cell_type": "code",
      "metadata": {
        "colab": {
          "base_uri": "https://localhost:8080/"
        },
        "id": "rYyNRLq-aGSN",
        "outputId": "1d6baf6c-f255-42bd-be0f-9d95f1494c91"
      },
      "source": [
        "print(kn.predict([new]))"
      ],
      "execution_count": null,
      "outputs": [
        {
          "output_type": "stream",
          "name": "stdout",
          "text": [
            "[1.]\n"
          ]
        }
      ]
    },
    {
      "cell_type": "code",
      "metadata": {
        "colab": {
          "base_uri": "https://localhost:8080/",
          "height": 279
        },
        "id": "0ZRZs2aMRZd2",
        "outputId": "556929f1-1820-4928-94e0-41477dfe5112"
      },
      "source": [
        "distances, indexes = kn.kneighbors([new])\n",
        "plt.scatter(train_scaled[:,0], train_scaled[:,1])\n",
        "plt.scatter(new[0], new[1], marker='^')\n",
        "plt.scatter(train_scaled[indexes,0], train_scaled[indexes,1], marker='D')\n",
        "plt.xlabel('length')\n",
        "plt.ylabel('weight')\n",
        "plt.show()\n",
        "# 이전과 달리 최근접이웃으로 도미가 나옴을 확인할 수 있다."
      ],
      "execution_count": null,
      "outputs": [
        {
          "output_type": "display_data",
          "data": {
            "image/png": "[encoded data removed]",
            "text/plain": [
              "<Figure size 432x288 with 1 Axes>"
            ]
          },
          "metadata": {
            "needs_background": "light"
          }
        }
      ]
    }
  ]
}