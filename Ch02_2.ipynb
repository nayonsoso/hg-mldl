{
  "nbformat": 4,
  "nbformat_minor": 0,
  "metadata": {
    "colab": {
      "name": "Ch02-2.ipynb",
      "provenance": [],
      "authorship_tag": "ABX9TyOlPKIeGWMr6gIIA0otQrmM",
      "include_colab_link": true
    },
    "kernelspec": {
      "name": "python3",
      "display_name": "Python 3"
    },
    "language_info": {
      "name": "python"
    }
  },
  "cells": [
    {
      "cell_type": "markdown",
      "metadata": {
        "id": "view-in-github",
        "colab_type": "text"
      },
      "source": [
        "<a href=\"https://colab.research.google.com/github/nayonsoso/hg-mldl/blob/main/Ch02_2.ipynb\" target=\"_parent\"><img src=\"https://colab.research.google.com/assets/colab-badge.svg\" alt=\"Open In Colab\"/></a>"
      ]
    },
    {
      "cell_type": "markdown",
      "metadata": {
        "id": "YMj_FDmXaD-a"
      },
      "source": [
        "# 02-2 데이터 전처리"
      ]
    },
    {
      "cell_type": "markdown",
      "metadata": {
        "id": "LozGmEBDaUHp"
      },
      "source": [
        "## numpy를 이용해 데이터셋 준비\n",
        "\n",
        "배열 연산을 쉽게 해주는 numpy를 이용해 02-1 보다 더 효율적인 방법으로 데이터를 준비해보자.\n",
        "\n",
        "**column_stack**은 전달된 배열을 **열로 연결하여 행렬을 리턴**하는 함수이다.\n",
        "\n",
        "**concatenate**은 **두 배열을 연결**하는 함수이다.\n",
        "\n",
        "02-1처럼 수동으로 파이썬 리스트를 만들수도 있다. 본 예제는 데이터 크기가 작아서 실행 속도에 차이가 없지만, 데이터의 크기가 클 수록 시간이 오래 걸리므로 데이터 처리에 최적화되어있는 numpy를 이용하는 것이 좋다.\n"
      ]
    },
    {
      "cell_type": "code",
      "metadata": {
        "id": "h6CWBjDPM3rG"
      },
      "source": [
        "fish_length = [25.4, 26.3, 26.5, 29.0, 29.0, 29.7, 29.7, 30.0, 30.0, 30.7,\n",
        "               31.0, 31.0, 31.5, 32.0, 32.0, 32.0, 33.0, 33.0, 33.5, 33.5,\n",
        "               34.0, 34.0, 34.5, 35.0, 35.0, 35.0, 35.0, 36.0, 36.0, 37.0,\n",
        "               38.5, 38.5, 39.5, 41.0, 41.0, 9.8, 10.5, 10.6, 11.0, 11.2,\n",
        "               11.3, 11.8, 11.8, 12.0, 12.2, 12.4, 13.0, 14.3, 15.0]\n",
        "fish_weight = [242.0, 290.0, 340.0, 363.0, 430.0, 450.0, 500.0, 390.0,\n",
        "               450.0, 500.0, 475.0, 500.0, 500.0, 340.0, 600.0, 600.0,\n",
        "               700.0, 700.0, 610.0, 650.0, 575.0, 685.0, 620.0, 680.0,\n",
        "               700.0, 725.0, 720.0, 714.0, 850.0, 1000.0, 920.0, 955.0,\n",
        "               925.0, 975.0, 950.0, 6.7, 7.5, 7.0, 9.7, 9.8, 8.7, 10.0,\n",
        "               9.9, 9.8, 12.2, 13.4, 12.2, 19.7, 19.9]\n",
        "\n",
        "import numpy as np\n",
        "# column_stack\n",
        "fish_data = np.column_stack((fish_length, fish_weight))\n",
        "# concatenate\n",
        "fish_target = np.concatenate((np.ones(35), np.zeros(14)))\n",
        "\n",
        "# 02-1 방식\n",
        "# fish_data = [[l, w] for l, w in zip(fish_length, fish_weight)]\n",
        "# fish_target = [1]*35 + [0]*14"
      ],
      "execution_count": 1,
      "outputs": []
    },
    {
      "cell_type": "code",
      "metadata": {
        "colab": {
          "base_uri": "https://localhost:8080/"
        },
        "id": "t1DKb6wjbLas",
        "outputId": "d4518da7-f659-4934-8b84-04efa41e81d2"
      },
      "source": [
        "# 데이터 확인\n",
        "print(fish_data[:3], '\\n', fish_target[:3])"
      ],
      "execution_count": 2,
      "outputs": [
        {
          "output_type": "stream",
          "name": "stdout",
          "text": [
            "[[ 25.4 242. ]\n",
            " [ 26.3 290. ]\n",
            " [ 26.5 340. ]] \n",
            " [1. 1. 1.]\n"
          ]
        }
      ]
    },
    {
      "cell_type": "markdown",
      "metadata": {
        "id": "i_lVjcvGcc4e"
      },
      "source": [
        "## 사이킷런으로 훈련 세트와 테스트 세트 나누기\n",
        "\n",
        "사이킷런에서 제공하는 **train_test_split** 함수를 이용하면 랜덤하게 섞인 훈련세트와 테스트세트를 구할 수 있다.\n",
        "\n",
        "기본적으로 25%를 테스트 데이터로 떼어낸다. \n",
        "\n",
        "ex. 본 예제에서 데이터셋은 총 49개이므로 36개의 훈련세트와 13개의 테스트세트가 만들어진다.\n",
        "\n",
        "\n",
        "**random_state** 변수는 np.random.seed()와 같은 역할을 한다.\n",
        "\n",
        "**stratify** 변수에 타깃 테이터(fish_target)를 전달하면 타깃데이터와 같은 비율로 데이터를 나눈다.\n",
        "\n",
        "ex. 타깃 데이터에서 1과 0의 비율은 35:14(2.5:1)이므로 훈련 세트와 테스트 세트의 비율도 각각 27:12(2.5:1) 와 9:4(2.5:1)이다."
      ]
    },
    {
      "cell_type": "code",
      "metadata": {
        "colab": {
          "base_uri": "https://localhost:8080/"
        },
        "id": "Kws57HeebfvV",
        "outputId": "8572abf7-c98d-4743-c116-c17099f8bc37"
      },
      "source": [
        "# train_test_split\n",
        "from sklearn.model_selection import train_test_split\n",
        "# 원래 데이터의 비율에 맞게 분류 - stratify 변수 이용\n",
        "train_input, test_input, train_target, test_target = train_test_split(\n",
        " fish_data, fish_target, stratify=fish_target, random_state=42)\n",
        "# 기본적으로 25%를 테스트 세트로 떼어낸다.\n",
        "print(train_input.shape,train_target.shape, test_input.shape, test_target.shape)"
      ],
      "execution_count": 3,
      "outputs": [
        {
          "output_type": "stream",
          "name": "stdout",
          "text": [
            "(36, 2) (36,) (13, 2) (13,)\n"
          ]
        }
      ]
    },
    {
      "cell_type": "markdown",
      "metadata": {
        "id": "ewzKpT-JfPeN"
      },
      "source": [
        "## 수상한 도미 한 마리\n",
        "\n",
        "k-최근접 이웃으로 분류했을 때 잘못 분류되는 데이터 발생"
      ]
    },
    {
      "cell_type": "markdown",
      "metadata": {
        "id": "em0TgSN3fzYR"
      },
      "source": [
        "### k-nn 모델 생성, 데이터 예측"
      ]
    },
    {
      "cell_type": "code",
      "metadata": {
        "colab": {
          "base_uri": "https://localhost:8080/"
        },
        "id": "bM8GJpUmQCtE",
        "outputId": "a53de1d6-d3b2-4efd-e183-64cd39274f74"
      },
      "source": [
        "from sklearn.neighbors import KNeighborsClassifier\n",
        "kn = KNeighborsClassifier()\n",
        "kn.fit(train_input, train_target)\n",
        "kn.score(test_input, test_target)"
      ],
      "execution_count": 4,
      "outputs": [
        {
          "output_type": "execute_result",
          "data": {
            "text/plain": [
              "1.0"
            ]
          },
          "metadata": {},
          "execution_count": 4
        }
      ]
    },
    {
      "cell_type": "code",
      "metadata": {
        "colab": {
          "base_uri": "https://localhost:8080/"
        },
        "id": "oM_hKQtvQEP4",
        "outputId": "503202cd-26fc-4a43-e695-465249d84f73"
      },
      "source": [
        "# (25, 150)은 도미이지만, 빙어로 예측하는 오류 발생\n",
        "print(kn.predict([[25, 150]]))"
      ],
      "execution_count": 5,
      "outputs": [
        {
          "output_type": "stream",
          "name": "stdout",
          "text": [
            "[0.]\n"
          ]
        }
      ]
    },
    {
      "cell_type": "markdown",
      "metadata": {
        "id": "M5nsDo8wgy7M"
      },
      "source": [
        "### 문제가 되는 데이터 확인"
      ]
    },
    {
      "cell_type": "code",
      "metadata": {
        "colab": {
          "base_uri": "https://localhost:8080/",
          "height": 297
        },
        "id": "uCSbVMF-P0ET",
        "outputId": "107b1ae8-7560-4d87-e344-9216998162d8"
      },
      "source": [
        "# matplotlib 으로 산점도 확인\n",
        "import matplotlib.pyplot as plt\n",
        "plt.scatter(train_input[:,0], train_input[:,1])\n",
        "plt.scatter(25, 150, marker='^')\n",
        "\n",
        "# kneighbors - 가장 가까운 5개 데이터까지의 거리, 데이터의 index 반환\n",
        "distances, indexes = kn.kneighbors([[25, 150]])\n",
        "plt.scatter(train_input[indexes,0], train_input[indexes,1], marker='D')\n",
        "plt.xlabel('length')\n",
        "plt.ylabel('weight')\n",
        "plt.show()\n",
        "\n",
        "# indexes로 데이터 실체 확인 - 빙어와 가깝다고 나옴\n",
        "print(train_target[indexes])"
      ],
      "execution_count": 6,
      "outputs": [
        {
          "output_type": "display_data",
          "data": {
            "image/png": "[encoded data removed]",
            "text/plain": [
              "<Figure size 432x288 with 1 Axes>"
            ]
          },
          "metadata": {
            "needs_background": "light"
          }
        },
        {
          "output_type": "stream",
          "name": "stdout",
          "text": [
            "[[1. 0. 0. 0. 0.]]\n"
          ]
        }
      ]
    },
    {
      "cell_type": "code",
      "metadata": {
        "colab": {
          "base_uri": "https://localhost:8080/"
        },
        "id": "fJ6QKcujiUbb",
        "outputId": "868a0542-1d99-42af-db01-bc856cfcb9e6"
      },
      "source": [
        "# indexes로 데이터 실체 확인 - 빙어와 가깝다고 나옴\n",
        "print(train_target[indexes])"
      ],
      "execution_count": 7,
      "outputs": [
        {
          "output_type": "stream",
          "name": "stdout",
          "text": [
            "[[1. 0. 0. 0. 0.]]\n"
          ]
        }
      ]
    },
    {
      "cell_type": "code",
      "metadata": {
        "colab": {
          "base_uri": "https://localhost:8080/"
        },
        "id": "deL2MxFPiX2M",
        "outputId": "e9d00c38-f03e-4ccd-b406-1de9c5e1af20"
      },
      "source": [
        "# distances로 거리 확인\n",
        "print(distances)"
      ],
      "execution_count": 8,
      "outputs": [
        {
          "output_type": "stream",
          "name": "stdout",
          "text": [
            "[[ 92.00086956 130.48375378 130.73859415 138.32150953 138.39320793]]\n"
          ]
        }
      ]
    },
    {
      "cell_type": "markdown",
      "metadata": {
        "id": "3kTWNBwQi1IS"
      },
      "source": [
        "### 원인 파악\n",
        "\n",
        "두 특성의 값이 놓인 범위가 범위(scale)가 다르다.\n",
        "\n",
        "x축(길이)의 범위는 10-40 인 반면 y축(무게)의 범위는 0-1000 이다.\n",
        "\n",
        "-> 거리를 측정하는데에 같은 기준이 적용되지 않는다는 문제 발생. \n",
        "\n",
        "ex. 10cm와 90mm를 비교할 때 기준을 고려하지 않은채 90mm가 더 크다고 하는 것과 같은 격\n",
        "\n",
        "x축 범위를 0-1000으로 맞춘 후 matplotlib으로 확인하면 이를 확실히 알 수 있다."
      ]
    },
    {
      "cell_type": "code",
      "metadata": {
        "colab": {
          "base_uri": "https://localhost:8080/",
          "height": 279
        },
        "id": "ANmAsXqbQkSD",
        "outputId": "68ad0975-281e-49cb-8fe8-b7a507f4ab55"
      },
      "source": [
        "plt.scatter(train_input[:,0], train_input[:,1])\n",
        "plt.scatter(25, 150, marker='^')\n",
        "plt.scatter(train_input[indexes,0], train_input[indexes,1], marker='D')\n",
        "plt.xlim((0, 1000)) # xlim = x축 범위 지정\n",
        "plt.xlabel('length')\n",
        "plt.ylabel('weight')\n",
        "plt.show()\n",
        "# 길이는 거리에 거의 영향을 주지 못하고 무게만 고려대상이 된다."
      ],
      "execution_count": 9,
      "outputs": [
        {
          "output_type": "display_data",
          "data": {
            "image/png": "[encoded data removed]",
            "text/plain": [
              "<Figure size 432x288 with 1 Axes>"
            ]
          },
          "metadata": {
            "needs_background": "light"
          }
        }
      ]
    },
    {
      "cell_type": "markdown",
      "metadata": {
        "id": "sJMU99AtTRd1"
      },
      "source": [
        "## 데이터 전처리\n",
        "\n",
        "데이터를 표현하는 기준이 다르면 알고리즘이 제대로 예측할 수 없다. \n",
        "\n",
        "특히 거리를 기반으로 하는 k-nn에서는 특히 그렇다. \n",
        "\n",
        "따라서 특성값을 일정한 기준으로 맞춰주는 작업이 필요하다."
      ]
    },
    {
      "cell_type": "markdown",
      "metadata": {
        "id": "Cd0iwrOuUH_r"
      },
      "source": [
        "### z 점수로 데이터 전처리하기\n",
        "\n",
        "z 점수(표준점수)는 x - mean / sigma 로 구할 수 있으며, 평균이 0, 표준편차가 1인 표준정규분포에서 \n",
        "\n",
        "데이터가 0(평균)으로부터 표준편차의 몇배만큼 떨어져있는지를 나타낸다. "
      ]
    },
    {
      "cell_type": "code",
      "metadata": {
        "colab": {
          "base_uri": "https://localhost:8080/"
        },
        "id": "JeAF_kuIQ-TE",
        "outputId": "f50be028-0812-40e5-91e5-adabafdafc93"
      },
      "source": [
        "# 열을 기준으로 평균과 표준편차 구하기 : axis=0은 열, axis=1은 행을 기준으로 함.\n",
        "mean = np.mean(train_input, axis=0)\n",
        "std = np.std(train_input, axis=0)\n",
        "print('길이, 무게 평균 :\\t',mean,'\\n길이, 무게 표준편차 :\\t',std)"
      ],
      "execution_count": 10,
      "outputs": [
        {
          "output_type": "stream",
          "name": "stdout",
          "text": [
            "길이, 무게 평균 :\t [ 27.29722222 454.09722222] \n",
            "길이, 무게 표준편차 :\t [  9.98244253 323.29893931]\n"
          ]
        }
      ]
    },
    {
      "cell_type": "code",
      "metadata": {
        "colab": {
          "base_uri": "https://localhost:8080/"
        },
        "id": "bJsa0Y93RMXM",
        "outputId": "0c44511a-2d7c-4841-9c4a-2526e59ea2ab"
      },
      "source": [
        "# z 점수로 변환하기\n",
        "train_scaled = (train_input - mean) / std\n",
        "\n",
        "# 변환되었는지 확인\n",
        "mean_ = np.mean(train_scaled, axis=0)\n",
        "std_ = np.std(train_scaled, axis=0)\n",
        "np.set_printoptions(precision=6, suppress=True) # 지수표현 대신 실수 출력\n",
        "print(mean_, std_)"
      ],
      "execution_count": 11,
      "outputs": [
        {
          "output_type": "stream",
          "name": "stdout",
          "text": [
            "[ 0. -0.] [1. 1.]\n"
          ]
        }
      ]
    },
    {
      "cell_type": "markdown",
      "metadata": {
        "id": "LlYcZJ0VYQMZ"
      },
      "source": [
        "### 예측 데이터도 z 점수로 변환하기\n",
        "\n",
        "데이터셋 - 평균 / 표준편차로 z점수를 구했던 이전까지의 전처리와는 달리, \n",
        "\n",
        "예측할 데이터는 평균과 표준편차가 없으므로 **훈련세트의 평균과 표준편차를 이용**해야 한다."
      ]
    },
    {
      "cell_type": "code",
      "metadata": {
        "colab": {
          "base_uri": "https://localhost:8080/",
          "height": 279
        },
        "id": "kaLt49vbROvv",
        "outputId": "8e179d65-ab90-4cfa-ae5b-c003e08d02cb"
      },
      "source": [
        "new = ([25, 150] - mean) / std\n",
        "plt.scatter(train_scaled[:,0], train_scaled[:,1])\n",
        "plt.scatter(new[0], new[1], marker='^')\n",
        "plt.xlabel('length')\n",
        "plt.ylabel('weight')\n",
        "plt.show()\n",
        "# x축과 y축의 범위가 동일해진 모습을 볼 수 있다."
      ],
      "execution_count": 12,
      "outputs": [
        {
          "output_type": "display_data",
          "data": {
            "image/png": "[encoded data removed]",
            "text/plain": [
              "<Figure size 432x288 with 1 Axes>"
            ]
          },
          "metadata": {
            "needs_background": "light"
          }
        }
      ]
    },
    {
      "cell_type": "markdown",
      "metadata": {
        "id": "xg3decETXoEU"
      },
      "source": [
        "## 전처리 데이터로 모델 훈련 & 예측하기"
      ]
    },
    {
      "cell_type": "markdown",
      "metadata": {
        "id": "2xlLMnopZeDL"
      },
      "source": [
        "### k-nn 모델 생성"
      ]
    },
    {
      "cell_type": "code",
      "metadata": {
        "colab": {
          "base_uri": "https://localhost:8080/"
        },
        "id": "wLnbjzovRRG3",
        "outputId": "e2568657-5102-46cd-f1e4-622013e783f7"
      },
      "source": [
        "kn.fit(train_scaled, train_target)"
      ],
      "execution_count": 13,
      "outputs": [
        {
          "output_type": "execute_result",
          "data": {
            "text/plain": [
              "KNeighborsClassifier(algorithm='auto', leaf_size=30, metric='minkowski',\n",
              "                     metric_params=None, n_jobs=None, n_neighbors=5, p=2,\n",
              "                     weights='uniform')"
            ]
          },
          "metadata": {},
          "execution_count": 13
        }
      ]
    },
    {
      "cell_type": "markdown",
      "metadata": {
        "id": "wEe9e8DIZifC"
      },
      "source": [
        "### 테스트 세트도 z 점수로 변환\n",
        "\n",
        "훈련 세트를 z 점수로 전처리했던것과 마찬가지로 테스트 세트도 z 점수로 변환해야 한다.\n",
        "\n",
        "훈련 세트와 테스트 세트를 전처리하는 방식이 동일해야 하기 때문이다.\n"
      ]
    },
    {
      "cell_type": "code",
      "metadata": {
        "colab": {
          "base_uri": "https://localhost:8080/"
        },
        "id": "nbMev-IKZbDU",
        "outputId": "9fb4fd4d-ae74-44c3-d0b2-e9d391ef5b11"
      },
      "source": [
        "test_scaled = (test_input - mean) / std\n",
        "kn.score(test_scaled, test_target)"
      ],
      "execution_count": 14,
      "outputs": [
        {
          "output_type": "execute_result",
          "data": {
            "text/plain": [
              "1.0"
            ]
          },
          "metadata": {},
          "execution_count": 14
        }
      ]
    },
    {
      "cell_type": "markdown",
      "metadata": {
        "id": "eyUJNvJXaCWL"
      },
      "source": [
        "### 데이터 예측 & 확인"
      ]
    },
    {
      "cell_type": "code",
      "metadata": {
        "colab": {
          "base_uri": "https://localhost:8080/"
        },
        "id": "rYyNRLq-aGSN",
        "outputId": "1d6baf6c-f255-42bd-be0f-9d95f1494c91"
      },
      "source": [
        "print(kn.predict([new]))"
      ],
      "execution_count": 15,
      "outputs": [
        {
          "output_type": "stream",
          "name": "stdout",
          "text": [
            "[1.]\n"
          ]
        }
      ]
    },
    {
      "cell_type": "code",
      "metadata": {
        "colab": {
          "base_uri": "https://localhost:8080/",
          "height": 279
        },
        "id": "0ZRZs2aMRZd2",
        "outputId": "556929f1-1820-4928-94e0-41477dfe5112"
      },
      "source": [
        "distances, indexes = kn.kneighbors([new])\n",
        "plt.scatter(train_scaled[:,0], train_scaled[:,1])\n",
        "plt.scatter(new[0], new[1], marker='^')\n",
        "plt.scatter(train_scaled[indexes,0], train_scaled[indexes,1], marker='D')\n",
        "plt.xlabel('length')\n",
        "plt.ylabel('weight')\n",
        "plt.show()\n",
        "# 이전과 달리 최근접이웃으로 도미가 나옴을 확인할 수 있다."
      ],
      "execution_count": 16,
      "outputs": [
        {
          "output_type": "display_data",
          "data": {
            "image/png": "[encoded data removed]",
            "text/plain": [
              "<Figure size 432x288 with 1 Axes>"
            ]
          },
          "metadata": {
            "needs_background": "light"
          }
        }
      ]
    }
  ]
}